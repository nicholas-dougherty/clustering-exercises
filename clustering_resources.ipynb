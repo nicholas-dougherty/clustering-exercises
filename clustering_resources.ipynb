{
 "cells": [
  {
   "cell_type": "markdown",
   "id": "148c0462-4006-4d40-ab76-8e2e14092d97",
   "metadata": {},
   "source": [
    "# Clustering Overview\n",
    "\n",
    "Jake VanderPlas, author of Python Data Science Handbook, has shared his content on github and elsewhere. Here's the chapter about K-Means Clustering \n",
    "https://jakevdp.github.io/PythonDataScienceHandbook/05.11-k-means.html"
   ]
  },
  {
   "cell_type": "code",
   "execution_count": 2,
   "id": "8bd379b2-99d4-4fb4-89e0-8a11e364e1c8",
   "metadata": {},
   "outputs": [],
   "source": [
    "from sklearn.metrics import pairwise_distances_argmin\n",
    "\n",
    "def find_clusters(X, n_clusters, rseed=2):\n",
    "    # 1. Randomly choose clusters\n",
    "    rng = np.random.RandomState(rseed)\n",
    "    i = rng.permutation(X.shape[0])[:n_clusters]\n",
    "    centers = X[i]\n",
    "    \n",
    "    while True:\n",
    "        # 2a. Assign labels based on closest center\n",
    "        labels = pairwise_distances_argmin(X, centers)\n",
    "        \n",
    "        # 2b. Find new centers from means of points\n",
    "        new_centers = np.array([X[labels == i].mean(0)\n",
    "                                for i in range(n_clusters)])\n",
    "        \n",
    "        # 2c. Check for convergence\n",
    "        if np.all(centers == new_centers):\n",
    "            break\n",
    "        centers = new_centers\n",
    "    \n",
    "    return centers, labels\n",
    "\n",
    "#centers, labels = find_clusters(X, 4)\n",
    "#plt.scatter(X[:, 0], X[:, 1], c=labels,\n",
    "#            s=50, cmap='viridis');"
   ]
  },
  {
   "cell_type": "markdown",
   "id": "671a6d4a-857b-4d0e-93c1-3457f17d3bf5",
   "metadata": {},
   "source": [
    "As we might expect from the cluster centers we visualized before, the main point of confusion is between the eights and ones. But this still shows that using k-means, we can essentially build a digit classifier without reference to any known labels!\n",
    "\n",
    "Just for fun, let's try to push this even farther. We can use the t-distributed stochastic neighbor embedding (t-SNE) algorithm (mentioned in In-Depth: Manifold Learning) to pre-process the data before performing k-means. t-SNE is a nonlinear embedding algorithm that is particularly adept at preserving points within clusters. Let's see how it does:"
   ]
  },
  {
   "cell_type": "code",
   "execution_count": 4,
   "id": "d3d5bd21-c91d-4a2f-80b3-ea0da9648498",
   "metadata": {},
   "outputs": [],
   "source": [
    "#from sklearn.manifold import TSNE\n",
    "#\n",
    "## Project the data: this step will take several seconds\n",
    "#tsne = TSNE(n_components=2, init='random', random_state=0)\n",
    "#digits_proj = tsne.fit_transform(digits.data)\n",
    "#\n",
    "## Compute the clusters\n",
    "#kmeans = KMeans(n_clusters=10, random_state=0)\n",
    "#clusters = kmeans.fit_predict(digits_proj)\n",
    "#\n",
    "## Permute the labels\n",
    "#labels = np.zeros_like(clusters)\n",
    "#for i in range(10):\n",
    "#    mask = (clusters == i)\n",
    "#    labels[mask] = mode(digits.target[mask])[0]\n",
    "#\n",
    "## Compute the accuracy\n",
    "#accuracy_score(digits.target, labels)"
   ]
  },
  {
   "cell_type": "code",
   "execution_count": null,
   "id": "f794e1c3-039b-41e5-bd98-3d40233bf314",
   "metadata": {},
   "outputs": [],
   "source": [
    "from sklearn.cluster import KMeans\n",
    "from scipy.spatial.distance import cdist\n",
    "\n",
    "def plot_kmeans(kmeans, X, n_clusters=4, rseed=0, ax=None):\n",
    "    labels = kmeans.fit_predict(X)\n",
    "\n",
    "    # plot the input data\n",
    "    ax = ax or plt.gca()\n",
    "    ax.axis('equal')\n",
    "    ax.scatter(X[:, 0], X[:, 1], c=labels, s=40, cmap='viridis', zorder=2)\n",
    "\n",
    "    # plot the representation of the KMeans model\n",
    "    centers = kmeans.cluster_centers_\n",
    "    radii = [cdist(X[labels == i], [center]).max()\n",
    "             for i, center in enumerate(centers)]\n",
    "    for c, r in zip(centers, radii):\n",
    "        ax.add_patch(plt.Circle(c, r, fc='#CCCCCC', lw=3, alpha=0.5, zorder=1))"
   ]
  },
  {
   "cell_type": "markdown",
   "id": "ab078858-547d-41bb-968c-e5ed74fcab1d",
   "metadata": {},
   "source": [
    "https://bl.ocks.org/rpgove/0060ff3b656618e9136b\n",
    "https://scikit-learn.org/stable/auto_examples/cluster/plot_kmeans_silhouette_analysis.html\n"
   ]
  },
  {
   "cell_type": "code",
   "execution_count": null,
   "id": "e5b5fffd-2683-458f-a5c6-964a3b18f9ab",
   "metadata": {},
   "outputs": [],
   "source": []
  }
 ],
 "metadata": {
  "kernelspec": {
   "display_name": "Python 3 (ipykernel)",
   "language": "python",
   "name": "python3"
  },
  "language_info": {
   "codemirror_mode": {
    "name": "ipython",
    "version": 3
   },
   "file_extension": ".py",
   "mimetype": "text/x-python",
   "name": "python",
   "nbconvert_exporter": "python",
   "pygments_lexer": "ipython3",
   "version": "3.9.7"
  }
 },
 "nbformat": 4,
 "nbformat_minor": 5
}
