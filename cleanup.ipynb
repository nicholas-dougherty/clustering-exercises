{
 "cells": [
  {
   "cell_type": "code",
   "execution_count": 1,
   "id": "ff12902d-5edc-4f49-b45a-c44527e5c9b4",
   "metadata": {},
   "outputs": [],
   "source": [
    "from env import host, username, password, get_db_url\n",
    "import os\n",
    "import pandas as pd \n",
    "import numpy as np"
   ]
  },
  {
   "cell_type": "code",
   "execution_count": 150,
   "id": "d443665b-9645-45ce-bf5a-21259b96eebc",
   "metadata": {},
   "outputs": [],
   "source": [
    "def acquire_zillow_data(use_cache=True):\n",
    "    '''\n",
    "    This function returns a snippet of zillow's database as a Pandas DataFrame. \n",
    "    When this SQL data is cached and extant in the os directory path, return the data as read into a df. \n",
    "    If csv is unavailable, aquisition proceeds regardless,\n",
    "    reading the queried database elements into a dataframe, creating a cached csv file\n",
    "    and lastly returning the dataframe for some sweet data science perusal.\n",
    "    '''\n",
    "\n",
    "    # If the cached parameter is True, read the csv file on disk in the same folder as this file \n",
    "    if os.path.exists('zillow.csv') and use_cache:\n",
    "        print('Using cached CSV')\n",
    "        return pd.read_csv('zillow.csv', dtype={'buildingclassdesc': 'str', 'propertyzoningdesc': 'str'})\n",
    "\n",
    "    # When there's no cached csv, read the following query from Codeup's SQL database.\n",
    "    print('CSV not detected.')\n",
    "    print('Acquiring data from SQL database instead.')\n",
    "    df = pd.read_sql(\n",
    "        '''\n",
    " SELECT\n",
    "    prop.*,\n",
    "    predictions_2017.logerror,\n",
    "    predictions_2017.transactiondate,\n",
    "    air.airconditioningdesc,\n",
    "    arch.architecturalstyledesc,\n",
    "    build.buildingclassdesc,\n",
    "    heat.heatingorsystemdesc,\n",
    "    landuse.propertylandusedesc,\n",
    "    story.storydesc,\n",
    "    construct.typeconstructiondesc\n",
    "FROM properties_2017 prop\n",
    "JOIN (\n",
    "    SELECT parcelid, MAX(transactiondate) AS max_transactiondate\n",
    "    FROM predictions_2017\n",
    "    GROUP BY parcelid\n",
    ") pred USING(parcelid)\n",
    "JOIN predictions_2017 ON pred.parcelid = predictions_2017.parcelid\n",
    "                      AND pred.max_transactiondate = predictions_2017.transactiondate\n",
    "LEFT JOIN airconditioningtype air USING (airconditioningtypeid)\n",
    "LEFT JOIN architecturalstyletype arch USING (architecturalstyletypeid)\n",
    "LEFT JOIN buildingclasstype build USING (buildingclasstypeid)\n",
    "LEFT JOIN heatingorsystemtype heat USING (heatingorsystemtypeid)\n",
    "LEFT JOIN propertylandusetype landuse USING (propertylandusetypeid)\n",
    "LEFT JOIN storytype story USING (storytypeid)\n",
    "LEFT JOIN typeconstructiontype construct USING (typeconstructiontypeid)\n",
    "WHERE prop.latitude IS NOT NULL\n",
    "  AND prop.longitude IS NOT NULL\n",
    "  AND transactiondate <= '2017-12-31';             \n",
    "        '''\n",
    "                    , get_db_url('zillow'))\n",
    "    \n",
    "    df.propertyzoningdesc.astype(str)\n",
    "    \n",
    "    \n",
    "    print('Acquisition Complete. Dataframe available and is now cached for future use.')\n",
    "    # create a csv of the dataframe for the sake of efficiency. \n",
    "    df.to_csv('zillow.csv', index=False)\n",
    "    \n",
    "    return df"
   ]
  },
  {
   "cell_type": "code",
   "execution_count": 151,
   "id": "c784cac5-e16b-41f5-9d11-3bffaef0b110",
   "metadata": {},
   "outputs": [
    {
     "name": "stdout",
     "output_type": "stream",
     "text": [
      "CSV not detected.\n",
      "Acquiring data from SQL database instead.\n",
      "Acquisition Complete. Dataframe available and is now cached for future use.\n"
     ]
    }
   ],
   "source": [
    "df = acquire_zillow_data()"
   ]
  },
  {
   "cell_type": "code",
   "execution_count": 152,
   "id": "39820681-0c53-4bee-b917-fd602575a887",
   "metadata": {},
   "outputs": [],
   "source": [
    "def describe_data(df):\n",
    "    '''\n",
    "    This function takes in a pandas dataframe and prints out the shape, datatypes, number of missing values, \n",
    "    columns and their data types, summary statistics of numeric columns in the dataframe, as well as the value counts for categorical variables.\n",
    "    '''\n",
    "    # Print out the \"shape\" of our dataframe - rows and columns\n",
    "    print(f'This dataframe has {df.shape[0]} rows and {df.shape[1]} columns.')\n",
    "    print('')\n",
    "    print('--------------------------------------')\n",
    "    print('--------------------------------------')\n",
    "    \n",
    "    # print the datatypes and column names with non-null counts\n",
    "    print(df.info())\n",
    "    print('')\n",
    "    print('--------------------------------------')\n",
    "    print('--------------------------------------')\n",
    "    \n",
    "    \n",
    "    # print out summary stats for our dataset\n",
    "    print('Here are the summary statistics of our dataset')\n",
    "    print(df.describe().applymap(lambda x: f\"{x:0.3f}\"))\n",
    "    print('')\n",
    "    print('--------------------------------------')\n",
    "    print('--------------------------------------')\n",
    "\n",
    "    # print the number of missing values per column and the total\n",
    "    print('Null Values by Column: ')\n",
    "    missing_total = df.isnull().sum().sum()\n",
    "    missing_count = df.isnull().sum() # the count of missing values\n",
    "    value_count = df.isnull().count() # the count of all values\n",
    "    missing_percentage = round(missing_count / value_count * 100, 2) # percentage of missing values\n",
    "    missing_df = pd.DataFrame({'count': missing_count, 'percentage': missing_percentage})\\\n",
    "    .sort_values(by='percentage', ascending=False)\n",
    "    \n",
    "    print(missing_df.head(50))\n",
    "    print(f' \\n Total Number of Missing Values: {missing_total} \\n')\n",
    "    df_total = df[df.columns[:]].count().sum()\n",
    "    proportion_of_nulls = round((missing_total / df_total), 4)\n",
    "    print(f' Proportion of Nulls in Dataframe: {proportion_of_nulls}\\n') \n",
    "    print('--------------------------------------')\n",
    "    print('--------------------------------------')\n",
    "    \n",
    "    print('Row-by-Row Nulls')\n",
    "    print(nulls_by_row(df))\n",
    "    print('----------------------')\n",
    "\n",
    "\n",
    "    #print('Relative Frequencies: \\n')\n",
    "    ## Display top 5 values of each variable within reasonable limit\n",
    "    #limit = 25\n",
    "    #for col in df.columns:\n",
    "    #    if df[col].nunique() < limit:\n",
    "    #        print(f'Column: {col} \\n {round(df[col].value_counts(normalize=True).nlargest(5), 3)} \\n')\n",
    "    #    else: \n",
    "    #        print(f'Column: {col} \\n')\n",
    "    #        print(f'Range of Values: [{df[col].min()} - {df[col].max()}] \\n')\n",
    "    #    print('------------------------------------------')\n",
    "    #    print('--------------------------------------')\n",
    "        \n",
    "        \n",
    "def nulls_by_col(df):\n",
    "    '''\n",
    "    This function  takes in a dataframe of observations and attributes(or columns) and returns a dataframe where each row is an atttribute name, the first column is the \n",
    "    number of rows with missing values for that attribute, and the second column is percent of total rows that have missing values for that attribute.\n",
    "    '''\n",
    "    num_missing = df.isnull().sum()\n",
    "    rows = df.shape[0]\n",
    "    prcnt_miss = (num_missing / rows * 100)\n",
    "    cols_missing = pd.DataFrame({'num_rows_missing': num_missing, \n",
    "                                 'percent_rows_missing': prcnt_miss})\\\n",
    "    .sort_values(by='percent_rows_missing', ascending=False)\n",
    "    return cols_missing.applymap(lambda x: f\"{x:0.1f}\")\n",
    "\n",
    "def nulls_by_row(df):\n",
    "    '''\n",
    "    This function takes in a dataframe and returns a dataframe with 3 columns: the number of columns missing, percent of columns missing, \n",
    "    and number of rows with n columns missing.\n",
    "    '''\n",
    "    num_missing = df.isnull().sum(axis = 1)\n",
    "    prcnt_miss = (num_missing / df.shape[1] * 100)\n",
    "    rows_missing = pd.DataFrame({'num_cols_missing': num_missing, \n",
    "                                 'percent_cols_missing': prcnt_miss})\\\n",
    "    .reset_index()\\\n",
    "    .groupby(['num_cols_missing', 'percent_cols_missing']).count()\\\n",
    "    .rename(index=str, columns={'index': 'num_rows'}).reset_index().set_index('num_cols_missing')\\\n",
    "    .sort_values(by='percent_cols_missing', ascending=False)\n",
    "    return rows_missing"
   ]
  },
  {
   "cell_type": "code",
   "execution_count": 153,
   "id": "fe416c79-52b3-433d-ae07-21d0505be8c8",
   "metadata": {},
   "outputs": [
    {
     "name": "stdout",
     "output_type": "stream",
     "text": [
      "This dataframe has 77380 rows and 68 columns.\n",
      "\n",
      "--------------------------------------\n",
      "--------------------------------------\n",
      "<class 'pandas.core.frame.DataFrame'>\n",
      "RangeIndex: 77380 entries, 0 to 77379\n",
      "Data columns (total 68 columns):\n",
      " #   Column                        Non-Null Count  Dtype  \n",
      "---  ------                        --------------  -----  \n",
      " 0   id                            77380 non-null  int64  \n",
      " 1   parcelid                      77380 non-null  int64  \n",
      " 2   airconditioningtypeid         24953 non-null  float64\n",
      " 3   architecturalstyletypeid      206 non-null    float64\n",
      " 4   basementsqft                  50 non-null     float64\n",
      " 5   bathroomcnt                   77380 non-null  float64\n",
      " 6   bedroomcnt                    77380 non-null  float64\n",
      " 7   buildingclasstypeid           15 non-null     float64\n",
      " 8   buildingqualitytypeid         49671 non-null  float64\n",
      " 9   calculatedbathnbr             76771 non-null  float64\n",
      " 10  decktypeid                    614 non-null    float64\n",
      " 11  finishedfloor1squarefeet      6023 non-null   float64\n",
      " 12  calculatedfinishedsquarefeet  77184 non-null  float64\n",
      " 13  finishedsquarefeet12          73748 non-null  float64\n",
      " 14  finishedsquarefeet13          41 non-null     float64\n",
      " 15  finishedsquarefeet15          3009 non-null   float64\n",
      " 16  finishedsquarefeet50          6023 non-null   float64\n",
      " 17  finishedsquarefeet6           386 non-null    float64\n",
      " 18  fips                          77380 non-null  float64\n",
      " 19  fireplacecnt                  8276 non-null   float64\n",
      " 20  fullbathcnt                   76771 non-null  float64\n",
      " 21  garagecarcnt                  25474 non-null  float64\n",
      " 22  garagetotalsqft               25474 non-null  float64\n",
      " 23  hashottuborspa                1538 non-null   float64\n",
      " 24  heatingorsystemtypeid         49439 non-null  float64\n",
      " 25  latitude                      77380 non-null  float64\n",
      " 26  longitude                     77380 non-null  float64\n",
      " 27  lotsizesquarefeet             69141 non-null  float64\n",
      " 28  poolcnt                       16137 non-null  float64\n",
      " 29  poolsizesum                   867 non-null    float64\n",
      " 30  pooltypeid10                  464 non-null    float64\n",
      " 31  pooltypeid2                   1074 non-null   float64\n",
      " 32  pooltypeid7                   15042 non-null  float64\n",
      " 33  propertycountylandusecode     77380 non-null  object \n",
      " 34  propertylandusetypeid         77380 non-null  float64\n",
      " 35  propertyzoningdesc            50330 non-null  object \n",
      " 36  rawcensustractandblock        77380 non-null  float64\n",
      " 37  regionidcity                  75909 non-null  float64\n",
      " 38  regionidcounty                77380 non-null  float64\n",
      " 39  regionidneighborhood          30890 non-null  float64\n",
      " 40  regionidzip                   77330 non-null  float64\n",
      " 41  roomcnt                       77380 non-null  float64\n",
      " 42  storytypeid                   50 non-null     float64\n",
      " 43  threequarterbathnbr           10096 non-null  float64\n",
      " 44  typeconstructiontypeid        222 non-null    float64\n",
      " 45  unitcnt                       50562 non-null  float64\n",
      " 46  yardbuildingsqft17            2388 non-null   float64\n",
      " 47  yardbuildingsqft26            70 non-null     float64\n",
      " 48  yearbuilt                     77117 non-null  float64\n",
      " 49  numberofstories               17560 non-null  float64\n",
      " 50  fireplaceflag                 172 non-null    float64\n",
      " 51  structuretaxvaluedollarcnt    77268 non-null  float64\n",
      " 52  taxvaluedollarcnt             77379 non-null  float64\n",
      " 53  assessmentyear                77380 non-null  float64\n",
      " 54  landtaxvaluedollarcnt         77378 non-null  float64\n",
      " 55  taxamount                     77375 non-null  float64\n",
      " 56  taxdelinquencyflag            2886 non-null   object \n",
      " 57  taxdelinquencyyear            2886 non-null   float64\n",
      " 58  censustractandblock           77136 non-null  float64\n",
      " 59  logerror                      77380 non-null  float64\n",
      " 60  transactiondate               77380 non-null  object \n",
      " 61  airconditioningdesc           24953 non-null  object \n",
      " 62  architecturalstyledesc        206 non-null    object \n",
      " 63  buildingclassdesc             15 non-null     object \n",
      " 64  heatingorsystemdesc           49439 non-null  object \n",
      " 65  propertylandusedesc           77380 non-null  object \n",
      " 66  storydesc                     50 non-null     object \n",
      " 67  typeconstructiondesc          222 non-null    object \n",
      "dtypes: float64(55), int64(2), object(11)\n",
      "memory usage: 40.1+ MB\n",
      "None\n",
      "\n",
      "--------------------------------------\n",
      "--------------------------------------\n",
      "Here are the summary statistics of our dataset\n",
      "                id       parcelid airconditioningtypeid  \\\n",
      "count    77380.000      77380.000             24953.000   \n",
      "mean   1495126.488   13007149.516                 1.813   \n",
      "std     860905.692    3481368.132                 2.968   \n",
      "min        349.000   10711855.000                 1.000   \n",
      "25%     752050.000   11538296.750                 1.000   \n",
      "50%    1497870.000   12531548.500                 1.000   \n",
      "75%    2240480.250   14211843.750                 1.000   \n",
      "max    2982274.000  167689317.000                13.000   \n",
      "\n",
      "      architecturalstyletypeid basementsqft bathroomcnt bedroomcnt  \\\n",
      "count                  206.000       50.000   77380.000  77380.000   \n",
      "mean                     7.388      679.720       2.299      3.053   \n",
      "std                      2.735      689.704       0.997      1.139   \n",
      "min                      2.000       38.000       0.000      0.000   \n",
      "25%                      7.000      273.000       2.000      2.000   \n",
      "50%                      7.000      515.000       2.000      3.000   \n",
      "75%                      7.000      796.500       3.000      4.000   \n",
      "max                     21.000     3560.000      18.000     16.000   \n",
      "\n",
      "      buildingclasstypeid buildingqualitytypeid calculatedbathnbr  ...  \\\n",
      "count              15.000             49671.000         76771.000  ...   \n",
      "mean                3.933                 6.535             2.317  ...   \n",
      "std                 0.258                 1.722             0.980  ...   \n",
      "min                 3.000                 1.000             1.000  ...   \n",
      "25%                 4.000                 6.000             2.000  ...   \n",
      "50%                 4.000                 6.000             2.000  ...   \n",
      "75%                 4.000                 8.000             3.000  ...   \n",
      "max                 4.000                12.000            18.000  ...   \n",
      "\n",
      "      numberofstories fireplaceflag structuretaxvaluedollarcnt  \\\n",
      "count       17560.000       172.000                  77268.000   \n",
      "mean            1.435         1.000                 189315.983   \n",
      "std             0.545         0.000                 230088.557   \n",
      "min             1.000         1.000                     44.000   \n",
      "25%             1.000         1.000                  84265.000   \n",
      "50%             1.000         1.000                 136499.500   \n",
      "75%             2.000         1.000                 218787.500   \n",
      "max             6.000         1.000               11421790.000   \n",
      "\n",
      "      taxvaluedollarcnt assessmentyear landtaxvaluedollarcnt   taxamount  \\\n",
      "count         77379.000      77380.000             77378.000   77375.000   \n",
      "mean         490137.463       2016.000            301096.944    5995.567   \n",
      "std          653447.667          0.000            492599.029    7622.887   \n",
      "min            1000.000       2016.000               161.000      19.920   \n",
      "25%          207000.000       2016.000             85504.000    2715.585   \n",
      "50%          358976.000       2016.000            203383.500    4450.720   \n",
      "75%          569003.000       2016.000            366802.250    6927.800   \n",
      "max        49061236.000       2016.000          48952198.000  586639.300   \n",
      "\n",
      "      taxdelinquencyyear  censustractandblock   logerror  \n",
      "count           2886.000            77136.000  77380.000  \n",
      "mean              14.087   60496735236341.992      0.017  \n",
      "std                2.186    1535251869244.564      0.170  \n",
      "min                3.000   60371011101000.000     -4.655  \n",
      "25%               14.000   60373109005001.750     -0.024  \n",
      "50%               15.000   60376032003008.000      0.007  \n",
      "75%               15.000   60590423251008.000      0.039  \n",
      "max               99.000  483030105084015.000      5.263  \n",
      "\n",
      "[8 rows x 57 columns]\n",
      "\n",
      "--------------------------------------\n",
      "--------------------------------------\n",
      "Null Values by Column: \n",
      "                              count  percentage\n",
      "buildingclassdesc             77365       99.98\n",
      "buildingclasstypeid           77365       99.98\n",
      "finishedsquarefeet13          77339       99.95\n",
      "storytypeid                   77330       99.94\n",
      "basementsqft                  77330       99.94\n",
      "storydesc                     77330       99.94\n",
      "yardbuildingsqft26            77310       99.91\n",
      "fireplaceflag                 77208       99.78\n",
      "architecturalstyletypeid      77174       99.73\n",
      "architecturalstyledesc        77174       99.73\n",
      "typeconstructiondesc          77158       99.71\n",
      "typeconstructiontypeid        77158       99.71\n",
      "finishedsquarefeet6           76994       99.50\n",
      "pooltypeid10                  76916       99.40\n",
      "decktypeid                    76766       99.21\n",
      "poolsizesum                   76513       98.88\n",
      "pooltypeid2                   76306       98.61\n",
      "hashottuborspa                75842       98.01\n",
      "yardbuildingsqft17            74992       96.91\n",
      "taxdelinquencyyear            74494       96.27\n",
      "taxdelinquencyflag            74494       96.27\n",
      "finishedsquarefeet15          74371       96.11\n",
      "finishedsquarefeet50          71357       92.22\n",
      "finishedfloor1squarefeet      71357       92.22\n",
      "fireplacecnt                  69104       89.30\n",
      "threequarterbathnbr           67284       86.95\n",
      "pooltypeid7                   62338       80.56\n",
      "poolcnt                       61243       79.15\n",
      "numberofstories               59820       77.31\n",
      "airconditioningdesc           52427       67.75\n",
      "airconditioningtypeid         52427       67.75\n",
      "garagecarcnt                  51906       67.08\n",
      "garagetotalsqft               51906       67.08\n",
      "regionidneighborhood          46490       60.08\n",
      "heatingorsystemtypeid         27941       36.11\n",
      "heatingorsystemdesc           27941       36.11\n",
      "buildingqualitytypeid         27709       35.81\n",
      "propertyzoningdesc            27050       34.96\n",
      "unitcnt                       26818       34.66\n",
      "lotsizesquarefeet              8239       10.65\n",
      "finishedsquarefeet12           3632        4.69\n",
      "regionidcity                   1471        1.90\n",
      "fullbathcnt                     609        0.79\n",
      "calculatedbathnbr               609        0.79\n",
      "yearbuilt                       263        0.34\n",
      "censustractandblock             244        0.32\n",
      "calculatedfinishedsquarefeet    196        0.25\n",
      "structuretaxvaluedollarcnt      112        0.14\n",
      "regionidzip                      50        0.06\n",
      "taxamount                         5        0.01\n",
      " \n",
      " Total Number of Missing Values: 2555480 \n",
      "\n",
      " Proportion of Nulls in Dataframe: 0.9442\n",
      "\n",
      "--------------------------------------\n",
      "--------------------------------------\n",
      "Row-by-Row Nulls\n",
      "                 percent_cols_missing  num_rows\n",
      "num_cols_missing                               \n",
      "48                  70.58823529411765         3\n",
      "47                  69.11764705882352         3\n",
      "46                  67.64705882352942         5\n",
      "45                  66.17647058823529        50\n",
      "44                  64.70588235294117        78\n",
      "43                  63.23529411764706        28\n",
      "42                  61.76470588235294        23\n",
      "41                  60.29411764705882        29\n",
      "40                  58.82352941176471       230\n",
      "39                  57.35294117647059       285\n",
      "38                  55.88235294117647      1925\n",
      "37                  54.41176470588235      3620\n",
      "36                  52.94117647058824      5775\n",
      "35                 51.470588235294116      5148\n",
      "34                               50.0     13326\n",
      "33                 48.529411764705884     14782\n",
      "32                  47.05882352941176     12579\n",
      "31                 45.588235294117645      9891\n",
      "30                  44.11764705882353      3455\n",
      "29                  42.64705882352941      5270\n",
      "28                  41.17647058823529       455\n",
      "27                 39.705882352941174       316\n",
      "26                  38.23529411764706        65\n",
      "25                  36.76470588235294        24\n",
      "24                 35.294117647058826        13\n",
      "23                  33.82352941176471         2\n",
      "----------------------\n"
     ]
    }
   ],
   "source": [
    "describe_data(df)"
   ]
  },
  {
   "cell_type": "code",
   "execution_count": 154,
   "id": "b0452977-4ee7-4f13-ac32-2b8b37090702",
   "metadata": {},
   "outputs": [],
   "source": [
    "def remove_columns(df, cols_to_remove):\n",
    "    '''\n",
    "    This function takes in a pandas dataframe and a list of columns to remove. It drops those columns from the original df and returns the df.\n",
    "    '''\n",
    "    df = df.drop(columns=cols_to_remove)\n",
    "    return df\n",
    "                 \n",
    "                 \n",
    "def handle_missing_values(df, prop_required_column=0.5 , prop_required_row=0.5):\n",
    "    '''\n",
    "    This function takes in a pandas datafeame, default proportion of required columns (set to 50%) and proprtion of required rows (set to 75%).\n",
    "    It drops any rows or columns that contain null values more than the threshold specified from the original dataframe and returns that dataframe.\n",
    "    '''\n",
    "    threshold = int(round(prop_required_column * len(df.index), 0))\n",
    "    df = df.dropna(axis=1, thresh=threshold)\n",
    "    threshold = int(round(prop_required_row * len(df.columns), 0))\n",
    "    df = df.dropna(axis=0, thresh=threshold)\n",
    "    return df\n",
    "\n",
    "# combined in one function\n",
    "def data_prep(df, cols_to_remove=[], prop_required_column=0.5, prop_required_row=0.5):\n",
    "    '''\n",
    "    This function calls the remove_columns and handle_missing_values to drop columns that need to be removed. It also drops rows and columns that have more \n",
    "    missing values than the specified threshold.\n",
    "    '''\n",
    "    df = remove_columns(df, cols_to_remove)\n",
    "    df = handle_missing_values(df, prop_required_column, prop_required_row)\n",
    "    return df"
   ]
  },
  {
   "cell_type": "code",
   "execution_count": 155,
   "id": "0aea2997-73c4-43d7-9c36-8d89b16e7b46",
   "metadata": {},
   "outputs": [],
   "source": [
    "# to find the difference \n",
    "from collections import Counter\n",
    "\n",
    "def handle_missing_values(df, prop_required_column=0.5 , prop_required_row=0.5):\n",
    "    '''\n",
    "    This function takes in a pandas dataframe, default proportion of required columns (set to 50%) and proprtion of required rows (set to 75%).\n",
    "    It drops any rows or columns that contain null values more than the threshold specified from the original dataframe and returns that dataframe.\n",
    "    \n",
    "    Prior to returning that data, it will print statistics and list counts/names of removed columns/row counts \n",
    "    '''\n",
    "    original_cols = df.columns.to_list()\n",
    "    original_rows = df.shape[0]\n",
    "    threshold = int(round(prop_required_column * len(df.index), 0))\n",
    "    df = df.dropna(axis=1, thresh=threshold)\n",
    "    threshold = int(round(prop_required_row * len(df.columns), 0))\n",
    "    df = df.dropna(axis=0, thresh=threshold)\n",
    "    remaining_cols = df.columns.to_list()\n",
    "    remaining_rows = df.shape[0]\n",
    "    dropped_col_count = len(original_cols) - len(remaining_cols)\n",
    "    dropped_cols = list((Counter(original_cols) - Counter(remaining_cols)).elements())\n",
    "    print(f'The following {dropped_col_count} columns were dropped because they were missing more than {prop_required_column * 100}% of data: \\n{dropped_cols}\\n')\n",
    "    dropped_rows = original_rows - remaining_rows\n",
    "    print(f'{dropped_rows} rows were dropped because they were missing more than {prop_required_row * 100}% of data')\n",
    "    return df"
   ]
  },
  {
   "cell_type": "code",
   "execution_count": null,
   "id": "65e4ffc4-24f1-4fee-b4ec-90a4f5166f43",
   "metadata": {},
   "outputs": [],
   "source": [
    "handle_missing_values(df)"
   ]
  },
  {
   "cell_type": "code",
   "execution_count": 158,
   "id": "bd5a8e78-1258-44b8-a0e5-08ef4b1af2c7",
   "metadata": {},
   "outputs": [
    {
     "name": "stdout",
     "output_type": "stream",
     "text": [
      "The following 34 columns were dropped because they were missing more than 50.0% of data: \n",
      "['airconditioningtypeid', 'architecturalstyletypeid', 'basementsqft', 'buildingclasstypeid', 'decktypeid', 'finishedfloor1squarefeet', 'finishedsquarefeet13', 'finishedsquarefeet15', 'finishedsquarefeet50', 'finishedsquarefeet6', 'fireplacecnt', 'garagecarcnt', 'garagetotalsqft', 'hashottuborspa', 'poolcnt', 'poolsizesum', 'pooltypeid10', 'pooltypeid2', 'pooltypeid7', 'regionidneighborhood', 'storytypeid', 'threequarterbathnbr', 'typeconstructiontypeid', 'yardbuildingsqft17', 'yardbuildingsqft26', 'numberofstories', 'fireplaceflag', 'taxdelinquencyflag', 'taxdelinquencyyear', 'airconditioningdesc', 'architecturalstyledesc', 'buildingclassdesc', 'storydesc', 'typeconstructiondesc']\n",
      "\n",
      "0 rows were dropped because they were missing more than 50.0% of data\n"
     ]
    }
   ],
   "source": [
    "df = data_prep(df)"
   ]
  },
  {
   "cell_type": "code",
   "execution_count": 160,
   "id": "9e10e7c4-42fa-4155-96a3-c2779a780fb5",
   "metadata": {},
   "outputs": [
    {
     "name": "stdout",
     "output_type": "stream",
     "text": [
      "This dataframe has 77380 rows and 34 columns.\n",
      "\n",
      "--------------------------------------\n",
      "--------------------------------------\n",
      "<class 'pandas.core.frame.DataFrame'>\n",
      "Int64Index: 77380 entries, 0 to 77379\n",
      "Data columns (total 34 columns):\n",
      " #   Column                        Non-Null Count  Dtype  \n",
      "---  ------                        --------------  -----  \n",
      " 0   id                            77380 non-null  int64  \n",
      " 1   parcelid                      77380 non-null  int64  \n",
      " 2   bathroomcnt                   77380 non-null  float64\n",
      " 3   bedroomcnt                    77380 non-null  float64\n",
      " 4   buildingqualitytypeid         49671 non-null  float64\n",
      " 5   calculatedbathnbr             76771 non-null  float64\n",
      " 6   calculatedfinishedsquarefeet  77184 non-null  float64\n",
      " 7   finishedsquarefeet12          73748 non-null  float64\n",
      " 8   fips                          77380 non-null  float64\n",
      " 9   fullbathcnt                   76771 non-null  float64\n",
      " 10  heatingorsystemtypeid         49439 non-null  float64\n",
      " 11  latitude                      77380 non-null  float64\n",
      " 12  longitude                     77380 non-null  float64\n",
      " 13  lotsizesquarefeet             69141 non-null  float64\n",
      " 14  propertycountylandusecode     77380 non-null  object \n",
      " 15  propertylandusetypeid         77380 non-null  float64\n",
      " 16  propertyzoningdesc            50330 non-null  object \n",
      " 17  rawcensustractandblock        77380 non-null  float64\n",
      " 18  regionidcity                  75909 non-null  float64\n",
      " 19  regionidcounty                77380 non-null  float64\n",
      " 20  regionidzip                   77330 non-null  float64\n",
      " 21  roomcnt                       77380 non-null  float64\n",
      " 22  unitcnt                       50562 non-null  float64\n",
      " 23  yearbuilt                     77117 non-null  float64\n",
      " 24  structuretaxvaluedollarcnt    77268 non-null  float64\n",
      " 25  taxvaluedollarcnt             77379 non-null  float64\n",
      " 26  assessmentyear                77380 non-null  float64\n",
      " 27  landtaxvaluedollarcnt         77378 non-null  float64\n",
      " 28  taxamount                     77375 non-null  float64\n",
      " 29  censustractandblock           77136 non-null  float64\n",
      " 30  logerror                      77380 non-null  float64\n",
      " 31  transactiondate               77380 non-null  object \n",
      " 32  heatingorsystemdesc           49439 non-null  object \n",
      " 33  propertylandusedesc           77380 non-null  object \n",
      "dtypes: float64(27), int64(2), object(5)\n",
      "memory usage: 20.7+ MB\n",
      "None\n",
      "\n",
      "--------------------------------------\n",
      "--------------------------------------\n",
      "Here are the summary statistics of our dataset\n",
      "                id       parcelid bathroomcnt bedroomcnt  \\\n",
      "count    77380.000      77380.000   77380.000  77380.000   \n",
      "mean   1495126.488   13007149.516       2.299      3.053   \n",
      "std     860905.692    3481368.132       0.997      1.139   \n",
      "min        349.000   10711855.000       0.000      0.000   \n",
      "25%     752050.000   11538296.750       2.000      2.000   \n",
      "50%    1497870.000   12531548.500       2.000      3.000   \n",
      "75%    2240480.250   14211843.750       3.000      4.000   \n",
      "max    2982274.000  167689317.000      18.000     16.000   \n",
      "\n",
      "      buildingqualitytypeid calculatedbathnbr calculatedfinishedsquarefeet  \\\n",
      "count             49671.000         76771.000                    77184.000   \n",
      "mean                  6.535             2.317                     1785.229   \n",
      "std                   1.722             0.980                      954.052   \n",
      "min                   1.000             1.000                      128.000   \n",
      "25%                   6.000             2.000                     1182.000   \n",
      "50%                   6.000             2.000                     1543.000   \n",
      "75%                   8.000             3.000                     2113.000   \n",
      "max                  12.000            18.000                    35640.000   \n",
      "\n",
      "      finishedsquarefeet12       fips fullbathcnt  ...    roomcnt    unitcnt  \\\n",
      "count            73748.000  77380.000   76771.000  ...  77380.000  50562.000   \n",
      "mean              1760.532   6048.819       2.250  ...      1.477      1.110   \n",
      "std                934.027     20.748       0.967  ...      2.824      1.171   \n",
      "min                128.000   6037.000       1.000  ...      0.000      1.000   \n",
      "25%               1172.000   6037.000       2.000  ...      0.000      1.000   \n",
      "50%               1523.000   6037.000       2.000  ...      0.000      1.000   \n",
      "75%               2076.000   6059.000       3.000  ...      0.000      1.000   \n",
      "max              21929.000   6111.000      18.000  ...     15.000    237.000   \n",
      "\n",
      "       yearbuilt structuretaxvaluedollarcnt taxvaluedollarcnt assessmentyear  \\\n",
      "count  77117.000                  77268.000         77379.000      77380.000   \n",
      "mean    1968.636                 189315.983        490137.463       2016.000   \n",
      "std       23.786                 230088.557        653447.667          0.000   \n",
      "min     1824.000                     44.000          1000.000       2016.000   \n",
      "25%     1953.000                  84265.000        207000.000       2016.000   \n",
      "50%     1970.000                 136499.500        358976.000       2016.000   \n",
      "75%     1987.000                 218787.500        569003.000       2016.000   \n",
      "max     2016.000               11421790.000      49061236.000       2016.000   \n",
      "\n",
      "      landtaxvaluedollarcnt   taxamount  censustractandblock   logerror  \n",
      "count             77378.000   77375.000            77136.000  77380.000  \n",
      "mean             301096.944    5995.567   60496735236341.992      0.017  \n",
      "std              492599.029    7622.887    1535251869244.564      0.170  \n",
      "min                 161.000      19.920   60371011101000.000     -4.655  \n",
      "25%               85504.000    2715.585   60373109005001.750     -0.024  \n",
      "50%              203383.500    4450.720   60376032003008.000      0.007  \n",
      "75%              366802.250    6927.800   60590423251008.000      0.039  \n",
      "max            48952198.000  586639.300  483030105084015.000      5.263  \n",
      "\n",
      "[8 rows x 29 columns]\n",
      "\n",
      "--------------------------------------\n",
      "--------------------------------------\n",
      "Null Values by Column: \n",
      "                              count  percentage\n",
      "heatingorsystemdesc           27941       36.11\n",
      "heatingorsystemtypeid         27941       36.11\n",
      "buildingqualitytypeid         27709       35.81\n",
      "propertyzoningdesc            27050       34.96\n",
      "unitcnt                       26818       34.66\n",
      "lotsizesquarefeet              8239       10.65\n",
      "finishedsquarefeet12           3632        4.69\n",
      "regionidcity                   1471        1.90\n",
      "calculatedbathnbr               609        0.79\n",
      "fullbathcnt                     609        0.79\n",
      "yearbuilt                       263        0.34\n",
      "censustractandblock             244        0.32\n",
      "calculatedfinishedsquarefeet    196        0.25\n",
      "structuretaxvaluedollarcnt      112        0.14\n",
      "regionidzip                      50        0.06\n",
      "taxamount                         5        0.01\n",
      "logerror                          0        0.00\n",
      "landtaxvaluedollarcnt             2        0.00\n",
      "assessmentyear                    0        0.00\n",
      "taxvaluedollarcnt                 1        0.00\n",
      "transactiondate                   0        0.00\n",
      "id                                0        0.00\n",
      "rawcensustractandblock            0        0.00\n",
      "roomcnt                           0        0.00\n",
      "regionidcounty                    0        0.00\n",
      "parcelid                          0        0.00\n",
      "propertylandusetypeid             0        0.00\n",
      "propertycountylandusecode         0        0.00\n",
      "longitude                         0        0.00\n",
      "latitude                          0        0.00\n",
      "fips                              0        0.00\n",
      "bedroomcnt                        0        0.00\n",
      "bathroomcnt                       0        0.00\n",
      "propertylandusedesc               0        0.00\n",
      " \n",
      " Total Number of Missing Values: 152892 \n",
      "\n",
      " Proportion of Nulls in Dataframe: 0.0617\n",
      "\n",
      "--------------------------------------\n",
      "--------------------------------------\n",
      "Row-by-Row Nulls\n",
      "                 percent_cols_missing  num_rows\n",
      "num_cols_missing                               \n",
      "3                   8.823529411764707      2482\n",
      "2                    5.88235294117647       989\n",
      "14                  41.17647058823529         3\n",
      "13                  38.23529411764706         4\n",
      "12                 35.294117647058826         7\n",
      "11                  32.35294117647059        62\n",
      "10                 29.411764705882355        79\n",
      "9                   26.47058823529412        41\n",
      "8                   23.52941176470588        55\n",
      "7                  20.588235294117645       347\n",
      "1                   2.941176470588235      3453\n",
      "6                  17.647058823529413      6179\n",
      "5                  14.705882352941178     18449\n",
      "4                   11.76470588235294      1452\n",
      "0                                 0.0     43778\n",
      "----------------------\n"
     ]
    }
   ],
   "source": [
    "describe_data(df)"
   ]
  },
  {
   "cell_type": "markdown",
   "id": "46d36ffc-f148-4e7e-8d04-556d23fe72cf",
   "metadata": {},
   "source": []
  },
  {
   "cell_type": "code",
   "execution_count": 104,
   "id": "babd9c3e-3424-41e6-9127-ba2f4124b625",
   "metadata": {},
   "outputs": [],
   "source": [
    "def remove_outliers(df, k, col_list):\n",
    "    ''' remove outliers from a list of columns in a dataframe \n",
    "        and return that dataframe\n",
    "    '''\n",
    "    \n",
    "    for col in col_list:\n",
    "        # get quartiles\n",
    "        q1, q3 = df[f'{col}'].quantile([.25, .75])  \n",
    "        # calculate interquartile range\n",
    "        iqr = q3 - q1   \n",
    "        # get upper bound\n",
    "        upper_bound = q3 + k * iqr \n",
    "        # get lower bound\n",
    "        lower_bound = q1 - k * iqr   \n",
    "\n",
    "        # return dataframe without outliers\n",
    "        \n",
    "        df = df[(df[f'{col}'] > lower_bound) & (df[f'{col}'] < upper_bound)]\n",
    "        \n",
    "    return df"
   ]
  },
  {
   "cell_type": "code",
   "execution_count": 161,
   "id": "b5558d59-6bde-44ef-9176-8bfd023fdafc",
   "metadata": {},
   "outputs": [
    {
     "data": {
      "text/plain": [
       "<bound method IndexOpsMixin.nunique of 0        14297519\n",
       "1        17052889\n",
       "2        14186244\n",
       "3        12177905\n",
       "4        10887214\n",
       "           ...   \n",
       "77375    10833991\n",
       "77376    11000655\n",
       "77377    17239384\n",
       "77378    12773139\n",
       "77379    12826780\n",
       "Name: parcelid, Length: 77380, dtype: int64>"
      ]
     },
     "execution_count": 161,
     "metadata": {},
     "output_type": "execute_result"
    }
   ],
   "source": [
    "df.parcelid.nunique\n",
    "#it's showing 77574...but there are only 77319 rows. What's going on? "
   ]
  },
  {
   "cell_type": "code",
   "execution_count": 119,
   "id": "7aa9bc47-f92a-425f-af76-fb20cbef6d48",
   "metadata": {},
   "outputs": [
    {
     "data": {
      "text/plain": [
       "array(['Single Family Residential', 'Condominium',\n",
       "       'Duplex (2 Units, Any Combination)', 'Residential General',\n",
       "       'Planned Unit Development', 'Triplex (3 Units, Any Combination)',\n",
       "       'Quadruplex (4 Units, Any Combination)', 'Cluster Home',\n",
       "       'Commercial/Office/Residential Mixed Used', 'Cooperative',\n",
       "       'Manufactured, Modular, Prefabricated Homes', 'Mobile Home',\n",
       "       'Townhouse'], dtype=object)"
      ]
     },
     "execution_count": 119,
     "metadata": {},
     "output_type": "execute_result"
    }
   ],
   "source": [
    "df.propertylandusedesc.unique()"
   ]
  },
  {
   "cell_type": "code",
   "execution_count": 162,
   "id": "0faf4221-b950-441a-871a-c24b8ad2b7d5",
   "metadata": {},
   "outputs": [],
   "source": [
    "df = df[(df.propertylandusedesc == 'Single Family Residential') |\n",
    "      (df.propertylandusedesc == 'Mobile Home') |\n",
    "      (df.propertylandusedesc == 'Manufactured, Modular, Prefabricated Homes') |\n",
    "      (df.propertylandusedesc == 'Cluster Home')]"
   ]
  },
  {
   "cell_type": "code",
   "execution_count": 164,
   "id": "e1056951-fd8c-40fa-970b-b9b4c4b9c64d",
   "metadata": {},
   "outputs": [
    {
     "data": {
      "text/plain": [
       "(52784, 34)"
      ]
     },
     "execution_count": 164,
     "metadata": {},
     "output_type": "execute_result"
    }
   ],
   "source": [
    "df.shape"
   ]
  },
  {
   "cell_type": "code",
   "execution_count": 166,
   "id": "19a381a4-d56e-444f-98dc-9196c88bf89c",
   "metadata": {},
   "outputs": [
    {
     "data": {
      "text/plain": [
       "(52595, 34)"
      ]
     },
     "execution_count": 166,
     "metadata": {},
     "output_type": "execute_result"
    }
   ],
   "source": [
    "df= df[(df.bedroomcnt > 0) & (df.bathroomcnt > 0)]\n",
    "df.shape"
   ]
  },
  {
   "cell_type": "code",
   "execution_count": 167,
   "id": "3b20ec44-b707-41d4-bb62-77469d709043",
   "metadata": {},
   "outputs": [],
   "source": [
    "#remove properties with 0 baths\n",
    "df = df[df.bathroomcnt > 0]"
   ]
  },
  {
   "cell_type": "code",
   "execution_count": 168,
   "id": "f82b2d14-dda7-4c17-852c-4d9bcf4db6db",
   "metadata": {},
   "outputs": [
    {
     "data": {
      "text/plain": [
       "(52595, 34)"
      ]
     },
     "execution_count": 168,
     "metadata": {},
     "output_type": "execute_result"
    }
   ],
   "source": [
    "df.shape"
   ]
  },
  {
   "cell_type": "code",
   "execution_count": 169,
   "id": "d9fa326b-d8ef-4fb9-a38c-fb0a50111513",
   "metadata": {},
   "outputs": [],
   "source": [
    "# # keep only properties with square footage greater than 70 (legal size of a bedroom)\n",
    "df = df[df.calculatedfinishedsquarefeet > 70]"
   ]
  },
  {
   "cell_type": "code",
   "execution_count": 170,
   "id": "d1e6ce52-4c65-4b1a-a5ea-892dd97d3367",
   "metadata": {},
   "outputs": [
    {
     "data": {
      "text/plain": [
       "(52587, 34)"
      ]
     },
     "execution_count": 170,
     "metadata": {},
     "output_type": "execute_result"
    }
   ],
   "source": [
    "df.shape"
   ]
  },
  {
   "cell_type": "code",
   "execution_count": 171,
   "id": "14664f00-a02e-468f-a206-796e29bd313a",
   "metadata": {},
   "outputs": [],
   "source": [
    "df2 = df[df.unitcnt <= 1]"
   ]
  },
  {
   "cell_type": "code",
   "execution_count": 172,
   "id": "b40a0710-9ad5-414b-a1de-ed149f69ad08",
   "metadata": {},
   "outputs": [
    {
     "data": {
      "text/plain": [
       "(33742, 34)"
      ]
     },
     "execution_count": 172,
     "metadata": {},
     "output_type": "execute_result"
    }
   ],
   "source": [
    "df2.shape"
   ]
  },
  {
   "cell_type": "code",
   "execution_count": null,
   "id": "931e5bdd-7e8c-4e39-9860-d22772931f1a",
   "metadata": {},
   "outputs": [],
   "source": [
    "df2"
   ]
  },
  {
   "cell_type": "code",
   "execution_count": 174,
   "id": "d7b246c8-7092-4530-926e-99ccb4f4e2d8",
   "metadata": {},
   "outputs": [
    {
     "data": {
      "application/vnd.jupyter.widget-view+json": {
       "model_id": "596ad95430be4b8f8dea7e87812e258d",
       "version_major": 2,
       "version_minor": 0
      },
      "text/plain": [
       "MitoWidget(analysis_data_json='{\"analysisName\": \"UUID-aae39cf3-a43e-43cf-9cdf-69e55a767aa8\", \"code\": {\"imports…"
      ]
     },
     "metadata": {},
     "output_type": "display_data"
    }
   ],
   "source": [
    "import mitosheet\n",
    "mitosheet.sheet(df2, view_df=True)"
   ]
  },
  {
   "cell_type": "code",
   "execution_count": 175,
   "id": "640b5c8e-4b40-410d-b8c9-3e3ecc7054b3",
   "metadata": {},
   "outputs": [
    {
     "data": {
      "text/plain": [
       "33742"
      ]
     },
     "execution_count": 175,
     "metadata": {},
     "output_type": "execute_result"
    }
   ],
   "source": [
    "(df2.calculatedfinishedsquarefeet == df2.finishedsquarefeet12).sum()\n",
    "# this indicated thats finishedsquarefeet12 and calculatedfinishedsquarefeet are identical. drop one. "
   ]
  },
  {
   "cell_type": "code",
   "execution_count": 176,
   "id": "23d4dc64-ec33-4e4d-8207-696af1c11ac5",
   "metadata": {},
   "outputs": [
    {
     "data": {
      "text/plain": [
       "33742"
      ]
     },
     "execution_count": 176,
     "metadata": {},
     "output_type": "execute_result"
    }
   ],
   "source": [
    "(df2.fullbathcnt == df2.bathroomcnt).sum()\n",
    "# completely identical again. Drop it. "
   ]
  },
  {
   "cell_type": "code",
   "execution_count": 177,
   "id": "9ed08416-de99-4f2b-ab9f-8dc2ae8c0021",
   "metadata": {},
   "outputs": [
    {
     "data": {
      "text/plain": [
       "33742"
      ]
     },
     "execution_count": 177,
     "metadata": {},
     "output_type": "execute_result"
    }
   ],
   "source": [
    "(df2.bathroomcnt == df2.calculatedbathnbr).sum()"
   ]
  },
  {
   "cell_type": "code",
   "execution_count": null,
   "id": "233da027-8d12-4851-9a6e-250b71221814",
   "metadata": {},
   "outputs": [],
   "source": []
  }
 ],
 "metadata": {
  "kernelspec": {
   "display_name": "Python 3 (ipykernel)",
   "language": "python",
   "name": "python3"
  },
  "language_info": {
   "codemirror_mode": {
    "name": "ipython",
    "version": 3
   },
   "file_extension": ".py",
   "mimetype": "text/x-python",
   "name": "python",
   "nbconvert_exporter": "python",
   "pygments_lexer": "ipython3",
   "version": "3.9.7"
  }
 },
 "nbformat": 4,
 "nbformat_minor": 5
}
