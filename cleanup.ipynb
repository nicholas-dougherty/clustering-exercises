{
 "cells": [
  {
   "cell_type": "code",
   "execution_count": 1,
   "id": "ff12902d-5edc-4f49-b45a-c44527e5c9b4",
   "metadata": {},
   "outputs": [],
   "source": [
    "from env import host, username, password, get_db_url\n",
    "import os\n",
    "import pandas as pd \n",
    "import numpy as np"
   ]
  },
  {
   "cell_type": "code",
   "execution_count": 2,
   "id": "d443665b-9645-45ce-bf5a-21259b96eebc",
   "metadata": {},
   "outputs": [],
   "source": [
    "def acquire_zillow_data(use_cache=True):\n",
    "    '''\n",
    "    This function returns a snippet of zillow's database as a Pandas DataFrame. \n",
    "    When this SQL data is cached and extant in the os directory path, return the data as read into a df. \n",
    "    If csv is unavailable, aquisition proceeds regardless,\n",
    "    reading the queried database elements into a dataframe, creating a cached csv file\n",
    "    and lastly returning the dataframe for some sweet data science perusal.\n",
    "    '''\n",
    "\n",
    "    # If the cached parameter is True, read the csv file on disk in the same folder as this file \n",
    "    if os.path.exists('zillow.csv') and use_cache:\n",
    "        print('Using cached CSV')\n",
    "        return pd.read_csv('zillow.csv', dtype={'buildingclassdesc': 'str', 'propertyzoningdesc': 'str'})\n",
    "\n",
    "    # When there's no cached csv, read the following query from Codeup's SQL database.\n",
    "    print('CSV not detected.')\n",
    "    print('Acquiring data from SQL database instead.')\n",
    "    df = pd.read_sql(\n",
    "        '''\n",
    " SELECT\n",
    "    prop.*,\n",
    "    predictions_2017.logerror,\n",
    "    predictions_2017.transactiondate,\n",
    "    air.airconditioningdesc,\n",
    "    arch.architecturalstyledesc,\n",
    "    build.buildingclassdesc,\n",
    "    heat.heatingorsystemdesc,\n",
    "    landuse.propertylandusedesc,\n",
    "    story.storydesc,\n",
    "    construct.typeconstructiondesc\n",
    "FROM properties_2017 prop\n",
    "JOIN (\n",
    "    SELECT parcelid, MAX(transactiondate) AS max_transactiondate\n",
    "    FROM predictions_2017\n",
    "    GROUP BY parcelid\n",
    ") pred USING(parcelid)\n",
    "JOIN predictions_2017 ON pred.parcelid = predictions_2017.parcelid\n",
    "                      AND pred.max_transactiondate = predictions_2017.transactiondate\n",
    "LEFT JOIN airconditioningtype air USING (airconditioningtypeid)\n",
    "LEFT JOIN architecturalstyletype arch USING (architecturalstyletypeid)\n",
    "LEFT JOIN buildingclasstype build USING (buildingclasstypeid)\n",
    "LEFT JOIN heatingorsystemtype heat USING (heatingorsystemtypeid)\n",
    "LEFT JOIN propertylandusetype landuse USING (propertylandusetypeid)\n",
    "LEFT JOIN storytype story USING (storytypeid)\n",
    "LEFT JOIN typeconstructiontype construct USING (typeconstructiontypeid)\n",
    "WHERE prop.latitude IS NOT NULL\n",
    "  AND prop.longitude IS NOT NULL\n",
    "  AND transactiondate <= '2017-12-31';             \n",
    "        '''\n",
    "                    , get_db_url('zillow'))\n",
    "    \n",
    "    df.propertyzoningdesc.astype(str)\n",
    "    \n",
    "    \n",
    "    print('Acquisition Complete. Dataframe available and is now cached for future use.')\n",
    "    # create a csv of the dataframe for the sake of efficiency. \n",
    "    df.to_csv('zillow.csv', index=False)\n",
    "    \n",
    "    return df"
   ]
  },
  {
   "cell_type": "code",
   "execution_count": 88,
   "id": "c784cac5-e16b-41f5-9d11-3bffaef0b110",
   "metadata": {},
   "outputs": [
    {
     "name": "stdout",
     "output_type": "stream",
     "text": [
      "Using cached CSV\n"
     ]
    }
   ],
   "source": [
    "df = acquire_zillow_data()"
   ]
  },
  {
   "cell_type": "code",
   "execution_count": 4,
   "id": "39820681-0c53-4bee-b917-fd602575a887",
   "metadata": {},
   "outputs": [],
   "source": [
    "def describe_data(df):\n",
    "    '''\n",
    "    This function takes in a pandas dataframe and prints out the shape, datatypes, number of missing values, \n",
    "    columns and their data types, summary statistics of numeric columns in the dataframe, as well as the value counts for categorical variables.\n",
    "    '''\n",
    "    # Print out the \"shape\" of our dataframe - rows and columns\n",
    "    print(f'This dataframe has {df.shape[0]} rows and {df.shape[1]} columns.')\n",
    "    print('')\n",
    "    print('--------------------------------------')\n",
    "    print('--------------------------------------')\n",
    "    \n",
    "    # print the datatypes and column names with non-null counts\n",
    "    print(df.info())\n",
    "    print('')\n",
    "    print('--------------------------------------')\n",
    "    print('--------------------------------------')\n",
    "    \n",
    "    \n",
    "    # print out summary stats for our dataset\n",
    "    print('Here are the summary statistics of our dataset')\n",
    "    print(df.describe().applymap(lambda x: f\"{x:0.3f}\"))\n",
    "    print('')\n",
    "    print('--------------------------------------')\n",
    "    print('--------------------------------------')\n",
    "\n",
    "    # print the number of missing values per column and the total\n",
    "    print('Null Values by Column: ')\n",
    "    missing_total = df.isnull().sum().sum()\n",
    "    missing_count = df.isnull().sum() # the count of missing values\n",
    "    value_count = df.isnull().count() # the count of all values\n",
    "    missing_percentage = round(missing_count / value_count * 100, 2) # percentage of missing values\n",
    "    missing_df = pd.DataFrame({'count': missing_count, 'percentage': missing_percentage})\\\n",
    "    .sort_values(by='percentage', ascending=False)\n",
    "    \n",
    "    print(missing_df.head(50))\n",
    "    print(f' \\n Total Number of Missing Values: {missing_total} \\n')\n",
    "    df_total = df[df.columns[:]].count().sum()\n",
    "    proportion_of_nulls = round((missing_total / df_total), 4)\n",
    "    print(f' Proportion of Nulls in Dataframe: {proportion_of_nulls}\\n') \n",
    "    print('--------------------------------------')\n",
    "    print('--------------------------------------')\n",
    "    \n",
    "    print('Row-by-Row Nulls')\n",
    "    print(nulls_by_row(df))\n",
    "    print('----------------------')\n",
    "\n",
    "\n",
    "    #print('Relative Frequencies: \\n')\n",
    "    ## Display top 5 values of each variable within reasonable limit\n",
    "    #limit = 25\n",
    "    #for col in df.columns:\n",
    "    #    if df[col].nunique() < limit:\n",
    "    #        print(f'Column: {col} \\n {round(df[col].value_counts(normalize=True).nlargest(5), 3)} \\n')\n",
    "    #    else: \n",
    "    #        print(f'Column: {col} \\n')\n",
    "    #        print(f'Range of Values: [{df[col].min()} - {df[col].max()}] \\n')\n",
    "    #    print('------------------------------------------')\n",
    "    #    print('--------------------------------------')\n",
    "        \n",
    "        \n",
    "def nulls_by_col(df):\n",
    "    '''\n",
    "    This function  takes in a dataframe of observations and attributes(or columns) and returns a dataframe where each row is an atttribute name, the first column is the \n",
    "    number of rows with missing values for that attribute, and the second column is percent of total rows that have missing values for that attribute.\n",
    "    '''\n",
    "    num_missing = df.isnull().sum()\n",
    "    rows = df.shape[0]\n",
    "    prcnt_miss = (num_missing / rows * 100)\n",
    "    cols_missing = pd.DataFrame({'num_rows_missing': num_missing, \n",
    "                                 'percent_rows_missing': prcnt_miss})\\\n",
    "    .sort_values(by='percent_rows_missing', ascending=False)\n",
    "    return cols_missing.applymap(lambda x: f\"{x:0.1f}\")\n",
    "\n",
    "def nulls_by_row(df):\n",
    "    '''\n",
    "    This function takes in a dataframe and returns a dataframe with 3 columns: the number of columns missing, percent of columns missing, \n",
    "    and number of rows with n columns missing.\n",
    "    '''\n",
    "    num_missing = df.isnull().sum(axis = 1)\n",
    "    prcnt_miss = (num_missing / df.shape[1] * 100)\n",
    "    rows_missing = pd.DataFrame({'num_cols_missing': num_missing, \n",
    "                                 'percent_cols_missing': prcnt_miss})\\\n",
    "    .reset_index()\\\n",
    "    .groupby(['num_cols_missing', 'percent_cols_missing']).count()\\\n",
    "    .rename(index=str, columns={'index': 'num_rows'}).reset_index().set_index('num_cols_missing')\\\n",
    "    .sort_values(by='percent_cols_missing', ascending=False)\n",
    "    return rows_missing"
   ]
  },
  {
   "cell_type": "code",
   "execution_count": 89,
   "id": "fe416c79-52b3-433d-ae07-21d0505be8c8",
   "metadata": {},
   "outputs": [],
   "source": [
    "#describe_data(df)"
   ]
  },
  {
   "cell_type": "code",
   "execution_count": 6,
   "id": "b0452977-4ee7-4f13-ac32-2b8b37090702",
   "metadata": {},
   "outputs": [],
   "source": [
    "def remove_columns(df, cols_to_remove):\n",
    "    '''\n",
    "    This function takes in a pandas dataframe and a list of columns to remove. It drops those columns from the original df and returns the df.\n",
    "    '''\n",
    "    df = df.drop(columns=cols_to_remove)\n",
    "    return df\n",
    "                 \n",
    "                 \n",
    "def handle_missing_values(df, prop_required_column=0.5 , prop_required_row=0.5):\n",
    "    '''\n",
    "    This function takes in a pandas datafeame, default proportion of required columns (set to 50%) and proprtion of required rows (set to 75%).\n",
    "    It drops any rows or columns that contain null values more than the threshold specified from the original dataframe and returns that dataframe.\n",
    "    '''\n",
    "    threshold = int(round(prop_required_column * len(df.index), 0))\n",
    "    df = df.dropna(axis=1, thresh=threshold)\n",
    "    threshold = int(round(prop_required_row * len(df.columns), 0))\n",
    "    df = df.dropna(axis=0, thresh=threshold)\n",
    "    return df\n",
    "\n",
    "# combined in one function\n",
    "def data_prep(df, cols_to_remove=[], prop_required_column=0.5, prop_required_row=0.5):\n",
    "    '''\n",
    "    This function calls the remove_columns and handle_missing_values to drop columns that need to be removed. It also drops rows and columns that have more \n",
    "    missing values than the specified threshold.\n",
    "    '''\n",
    "    df = remove_columns(df, cols_to_remove)\n",
    "    df = handle_missing_values(df, prop_required_column, prop_required_row)\n",
    "    return df"
   ]
  },
  {
   "cell_type": "code",
   "execution_count": 7,
   "id": "0aea2997-73c4-43d7-9c36-8d89b16e7b46",
   "metadata": {},
   "outputs": [],
   "source": [
    "# to find the difference \n",
    "from collections import Counter\n",
    "\n",
    "def handle_missing_values(df, prop_required_column=0.5 , prop_required_row=0.5):\n",
    "    '''\n",
    "    This function takes in a pandas dataframe, default proportion of required columns (set to 50%) and proprtion of required rows (set to 75%).\n",
    "    It drops any rows or columns that contain null values more than the threshold specified from the original dataframe and returns that dataframe.\n",
    "    \n",
    "    Prior to returning that data, it will print statistics and list counts/names of removed columns/row counts \n",
    "    '''\n",
    "    original_cols = df.columns.to_list()\n",
    "    original_rows = df.shape[0]\n",
    "    threshold = int(round(prop_required_column * len(df.index), 0))\n",
    "    df = df.dropna(axis=1, thresh=threshold)\n",
    "    threshold = int(round(prop_required_row * len(df.columns), 0))\n",
    "    df = df.dropna(axis=0, thresh=threshold)\n",
    "    remaining_cols = df.columns.to_list()\n",
    "    remaining_rows = df.shape[0]\n",
    "    dropped_col_count = len(original_cols) - len(remaining_cols)\n",
    "    dropped_cols = list((Counter(original_cols) - Counter(remaining_cols)).elements())\n",
    "    print(f'The following {dropped_col_count} columns were dropped because they were missing more than {prop_required_column * 100}% of data: \\n{dropped_cols}\\n')\n",
    "    dropped_rows = original_rows - remaining_rows\n",
    "    print(f'{dropped_rows} rows were dropped because they were missing more than {prop_required_row * 100}% of data')\n",
    "    return df"
   ]
  },
  {
   "cell_type": "code",
   "execution_count": 90,
   "id": "65e4ffc4-24f1-4fee-b4ec-90a4f5166f43",
   "metadata": {},
   "outputs": [],
   "source": [
    "#handle_missing_values(df)"
   ]
  },
  {
   "cell_type": "code",
   "execution_count": 91,
   "id": "bd5a8e78-1258-44b8-a0e5-08ef4b1af2c7",
   "metadata": {},
   "outputs": [],
   "source": [
    "#df = data_prep(df)"
   ]
  },
  {
   "cell_type": "code",
   "execution_count": 92,
   "id": "9e10e7c4-42fa-4155-96a3-c2779a780fb5",
   "metadata": {},
   "outputs": [],
   "source": [
    "#describe_data(df)"
   ]
  },
  {
   "cell_type": "markdown",
   "id": "46d36ffc-f148-4e7e-8d04-556d23fe72cf",
   "metadata": {},
   "source": []
  },
  {
   "cell_type": "code",
   "execution_count": 86,
   "id": "babd9c3e-3424-41e6-9127-ba2f4124b625",
   "metadata": {},
   "outputs": [],
   "source": [
    "def remove_outliers(df, k, col_list):\n",
    "    ''' remove outliers from a list of columns in a dataframe \n",
    "        and return that dataframe\n",
    "    '''\n",
    "    \n",
    "    for col in col_list:\n",
    "        # get quartiles\n",
    "        q1, q3 = df[f'{col}'].quantile([.25, .75])  \n",
    "        # calculate interquartile range\n",
    "        iqr = q3 - q1   \n",
    "        # get upper bound\n",
    "        upper_bound = q3 + k * iqr \n",
    "        # get lower bound\n",
    "        lower_bound = q1 - k * iqr   \n",
    "\n",
    "        # return dataframe without outliers\n",
    "        \n",
    "        df = df[(df[f'{col}'] > lower_bound) & (df[f'{col}'] < upper_bound)]\n",
    "        \n",
    "    return df"
   ]
  },
  {
   "cell_type": "code",
   "execution_count": 12,
   "id": "b5558d59-6bde-44ef-9176-8bfd023fdafc",
   "metadata": {},
   "outputs": [
    {
     "data": {
      "text/plain": [
       "<bound method IndexOpsMixin.nunique of 0        14297519\n",
       "1        17052889\n",
       "2        14186244\n",
       "3        12177905\n",
       "4        10887214\n",
       "           ...   \n",
       "77375    10833991\n",
       "77376    11000655\n",
       "77377    17239384\n",
       "77378    12773139\n",
       "77379    12826780\n",
       "Name: parcelid, Length: 77380, dtype: int64>"
      ]
     },
     "execution_count": 12,
     "metadata": {},
     "output_type": "execute_result"
    }
   ],
   "source": [
    "df.parcelid.nunique\n",
    "#it's showing 77574...but there are only 77319 rows. What's going on? "
   ]
  },
  {
   "cell_type": "code",
   "execution_count": 13,
   "id": "7aa9bc47-f92a-425f-af76-fb20cbef6d48",
   "metadata": {},
   "outputs": [
    {
     "data": {
      "text/plain": [
       "array(['Single Family Residential', 'Condominium',\n",
       "       'Duplex (2 Units, Any Combination)', 'Residential General',\n",
       "       'Planned Unit Development', 'Triplex (3 Units, Any Combination)',\n",
       "       'Quadruplex (4 Units, Any Combination)', 'Cluster Home',\n",
       "       'Commercial/Office/Residential Mixed Used', 'Cooperative',\n",
       "       'Manufactured, Modular, Prefabricated Homes', 'Mobile Home',\n",
       "       'Townhouse'], dtype=object)"
      ]
     },
     "execution_count": 13,
     "metadata": {},
     "output_type": "execute_result"
    }
   ],
   "source": [
    "df.propertylandusedesc.unique()"
   ]
  },
  {
   "cell_type": "code",
   "execution_count": 14,
   "id": "0faf4221-b950-441a-871a-c24b8ad2b7d5",
   "metadata": {},
   "outputs": [],
   "source": [
    "df = df[(df.propertylandusedesc == 'Single Family Residential') |\n",
    "      (df.propertylandusedesc == 'Mobile Home') |\n",
    "      (df.propertylandusedesc == 'Manufactured, Modular, Prefabricated Homes') |\n",
    "      (df.propertylandusedesc == 'Cluster Home')]"
   ]
  },
  {
   "cell_type": "code",
   "execution_count": 15,
   "id": "e1056951-fd8c-40fa-970b-b9b4c4b9c64d",
   "metadata": {},
   "outputs": [
    {
     "data": {
      "text/plain": [
       "(52784, 34)"
      ]
     },
     "execution_count": 15,
     "metadata": {},
     "output_type": "execute_result"
    }
   ],
   "source": [
    "df.shape"
   ]
  },
  {
   "cell_type": "code",
   "execution_count": 16,
   "id": "19a381a4-d56e-444f-98dc-9196c88bf89c",
   "metadata": {},
   "outputs": [
    {
     "data": {
      "text/plain": [
       "(52595, 34)"
      ]
     },
     "execution_count": 16,
     "metadata": {},
     "output_type": "execute_result"
    }
   ],
   "source": [
    "df= df[(df.bedroomcnt > 0) & (df.bathroomcnt > 0)]\n",
    "df.shape"
   ]
  },
  {
   "cell_type": "code",
   "execution_count": 17,
   "id": "3b20ec44-b707-41d4-bb62-77469d709043",
   "metadata": {},
   "outputs": [],
   "source": [
    "#remove properties with 0 baths\n",
    "df = df[df.bathroomcnt > 0]"
   ]
  },
  {
   "cell_type": "code",
   "execution_count": 18,
   "id": "f82b2d14-dda7-4c17-852c-4d9bcf4db6db",
   "metadata": {},
   "outputs": [
    {
     "data": {
      "text/plain": [
       "(52595, 34)"
      ]
     },
     "execution_count": 18,
     "metadata": {},
     "output_type": "execute_result"
    }
   ],
   "source": [
    "df.shape"
   ]
  },
  {
   "cell_type": "code",
   "execution_count": 19,
   "id": "d9fa326b-d8ef-4fb9-a38c-fb0a50111513",
   "metadata": {},
   "outputs": [],
   "source": [
    "# # keep only properties with square footage greater than 70 (legal size of a bedroom)\n",
    "df = df[df.calculatedfinishedsquarefeet > 70]"
   ]
  },
  {
   "cell_type": "code",
   "execution_count": 20,
   "id": "d1e6ce52-4c65-4b1a-a5ea-892dd97d3367",
   "metadata": {},
   "outputs": [
    {
     "data": {
      "text/plain": [
       "(52587, 34)"
      ]
     },
     "execution_count": 20,
     "metadata": {},
     "output_type": "execute_result"
    }
   ],
   "source": [
    "df.shape"
   ]
  },
  {
   "cell_type": "code",
   "execution_count": 34,
   "id": "14664f00-a02e-468f-a206-796e29bd313a",
   "metadata": {},
   "outputs": [],
   "source": [
    "df2 = df[df.unitcnt <= 1]"
   ]
  },
  {
   "cell_type": "code",
   "execution_count": 35,
   "id": "b40a0710-9ad5-414b-a1de-ed149f69ad08",
   "metadata": {},
   "outputs": [
    {
     "data": {
      "text/plain": [
       "(33742, 34)"
      ]
     },
     "execution_count": 35,
     "metadata": {},
     "output_type": "execute_result"
    }
   ],
   "source": [
    "df2.shape"
   ]
  },
  {
   "cell_type": "code",
   "execution_count": 93,
   "id": "931e5bdd-7e8c-4e39-9860-d22772931f1a",
   "metadata": {},
   "outputs": [],
   "source": [
    "#df2"
   ]
  },
  {
   "cell_type": "code",
   "execution_count": 25,
   "id": "640b5c8e-4b40-410d-b8c9-3e3ecc7054b3",
   "metadata": {},
   "outputs": [
    {
     "data": {
      "text/plain": [
       "33742"
      ]
     },
     "execution_count": 25,
     "metadata": {},
     "output_type": "execute_result"
    }
   ],
   "source": [
    "(df2.calculatedfinishedsquarefeet == df2.finishedsquarefeet12).sum()\n",
    "# this indicated thats finishedsquarefeet12 and calculatedfinishedsquarefeet are identical. drop one. "
   ]
  },
  {
   "cell_type": "code",
   "execution_count": 26,
   "id": "23d4dc64-ec33-4e4d-8207-696af1c11ac5",
   "metadata": {},
   "outputs": [
    {
     "data": {
      "text/plain": [
       "33742"
      ]
     },
     "execution_count": 26,
     "metadata": {},
     "output_type": "execute_result"
    }
   ],
   "source": [
    "(df2.fullbathcnt == df2.bathroomcnt).sum()\n",
    "# completely identical again. Drop it. "
   ]
  },
  {
   "cell_type": "code",
   "execution_count": 27,
   "id": "9ed08416-de99-4f2b-ab9f-8dc2ae8c0021",
   "metadata": {},
   "outputs": [
    {
     "data": {
      "text/plain": [
       "33742"
      ]
     },
     "execution_count": 27,
     "metadata": {},
     "output_type": "execute_result"
    }
   ],
   "source": [
    "(df2.bathroomcnt == df2.calculatedbathnbr).sum()"
   ]
  },
  {
   "cell_type": "code",
   "execution_count": 36,
   "id": "233da027-8d12-4851-9a6e-250b71221814",
   "metadata": {},
   "outputs": [],
   "source": [
    "df2 = df2.drop(columns= ['finishedsquarefeet12', 'fullbathcnt', 'calculatedbathnbr'])"
   ]
  },
  {
   "cell_type": "code",
   "execution_count": 94,
   "id": "61f3f29b-f9ef-448d-bd49-b22e192ca977",
   "metadata": {},
   "outputs": [],
   "source": [
    "#describe_data(df2)"
   ]
  },
  {
   "cell_type": "markdown",
   "id": "0c046b25-5f80-4698-8a53-f88ba1ad616e",
   "metadata": {},
   "source": [
    "https://planning.lacounty.gov/luz/summary/category/residential_zones\n",
    "## Concerning the Property County land use. \n",
    "Mimimum area: 5000 sq feet per lot. \n"
   ]
  },
  {
   "cell_type": "code",
   "execution_count": 65,
   "id": "586e3a33-f155-4a99-a002-4596584a97fa",
   "metadata": {},
   "outputs": [],
   "source": [
    "df3 = df[df.lotsizesquarefeet >= 5000].copy()"
   ]
  },
  {
   "cell_type": "code",
   "execution_count": null,
   "id": "fcfbdbc6-bc38-4bcc-86e7-9904b9d154b2",
   "metadata": {},
   "outputs": [],
   "source": [
    "df3"
   ]
  },
  {
   "cell_type": "code",
   "execution_count": 66,
   "id": "769c56b4-f333-4f2b-958a-0ddc0a91fb85",
   "metadata": {},
   "outputs": [],
   "source": [
    "df3.drop(['propertyzoningdesc'], axis=1, inplace=True)\n",
    "df3 = df3[~df3['propertylandusetypeid'].isin([263, 265, 275])]"
   ]
  },
  {
   "cell_type": "code",
   "execution_count": null,
   "id": "7078da48-4379-4988-ba07-ab60c7e18606",
   "metadata": {},
   "outputs": [],
   "source": [
    "from mitosheet import *; register_analysis('UUID-6c2d09dd-f5b7-4dfe-8001-f7917a2af02e')\n",
    "    \n",
    "# Filtered propertycountylandusecode in df3\n",
    "df3 = df3[df3['propertycountylandusecode'].apply(lambda val: all(val != s for s in ['0103', '0105', '0108', '0109', '010G', '010M', '0111', '0113', '0130', '0131', '0133', '1', '1110', '1111', '1112', '122', '0102']))]\n"
   ]
  },
  {
   "cell_type": "code",
   "execution_count": 70,
   "id": "5f203751-7ff7-498c-9279-0403573c2af9",
   "metadata": {},
   "outputs": [],
   "source": [
    "df4 = df3[df3['propertycountylandusecode'] == ('0100', '0101', '0104')]\n",
    "#.apply(lambda val: all(val == s for s in ['0100', '0101', '0104']))]              "
   ]
  },
  {
   "cell_type": "code",
   "execution_count": 76,
   "id": "1277eacd-566a-4c0b-a633-37291e7fb2db",
   "metadata": {},
   "outputs": [],
   "source": [
    "df4 = df3[(df3.propertycountylandusecode == '0100') |\n",
    "      (df3.propertycountylandusecode == '0101') |\n",
    "      (df3.propertycountylandusecode == '0104')]"
   ]
  },
  {
   "cell_type": "code",
   "execution_count": null,
   "id": "19e51aac-cfb4-4afd-8767-9546c50788c4",
   "metadata": {},
   "outputs": [],
   "source": [
    "# now that there are only 27 nans and 13 properties where unit cnt is not equal to one. I can comfortably drop them. "
   ]
  },
  {
   "cell_type": "code",
   "execution_count": 79,
   "id": "29d088d6-6d45-4a3c-a989-e955a237c0d3",
   "metadata": {},
   "outputs": [],
   "source": [
    "df5 = df4[df4.unitcnt == 1.0]"
   ]
  },
  {
   "cell_type": "code",
   "execution_count": 83,
   "id": "76ed58d1-df59-4fd2-b7d5-85c9ce338c22",
   "metadata": {},
   "outputs": [],
   "source": [
    "# Now I can just drop the nulls from the rest. \n",
    "df5 = df5.dropna()"
   ]
  },
  {
   "cell_type": "code",
   "execution_count": 104,
   "id": "3dae5548-7654-45db-beca-5f04d399a21d",
   "metadata": {},
   "outputs": [
    {
     "name": "stdout",
     "output_type": "stream",
     "text": [
      "This dataframe has 28459 rows and 33 columns.\n",
      "\n",
      "--------------------------------------\n",
      "--------------------------------------\n",
      "<class 'pandas.core.frame.DataFrame'>\n",
      "Int64Index: 28459 entries, 3 to 77379\n",
      "Data columns (total 33 columns):\n",
      " #   Column                        Non-Null Count  Dtype  \n",
      "---  ------                        --------------  -----  \n",
      " 0   id                            28459 non-null  int64  \n",
      " 1   parcelid                      28459 non-null  int64  \n",
      " 2   bathroomcnt                   28459 non-null  float64\n",
      " 3   bedroomcnt                    28459 non-null  float64\n",
      " 4   buildingqualitytypeid         28459 non-null  float64\n",
      " 5   calculatedbathnbr             28459 non-null  float64\n",
      " 6   calculatedfinishedsquarefeet  28459 non-null  float64\n",
      " 7   finishedsquarefeet12          28459 non-null  float64\n",
      " 8   fips                          28459 non-null  float64\n",
      " 9   fullbathcnt                   28459 non-null  float64\n",
      " 10  heatingorsystemtypeid         28459 non-null  float64\n",
      " 11  latitude                      28459 non-null  float64\n",
      " 12  longitude                     28459 non-null  float64\n",
      " 13  lotsizesquarefeet             28459 non-null  float64\n",
      " 14  propertycountylandusecode     28459 non-null  object \n",
      " 15  propertylandusetypeid         28459 non-null  float64\n",
      " 16  rawcensustractandblock        28459 non-null  float64\n",
      " 17  regionidcity                  28459 non-null  float64\n",
      " 18  regionidcounty                28459 non-null  float64\n",
      " 19  regionidzip                   28459 non-null  float64\n",
      " 20  roomcnt                       28459 non-null  float64\n",
      " 21  unitcnt                       28459 non-null  float64\n",
      " 22  yearbuilt                     28459 non-null  float64\n",
      " 23  structuretaxvaluedollarcnt    28459 non-null  float64\n",
      " 24  taxvaluedollarcnt             28459 non-null  float64\n",
      " 25  assessmentyear                28459 non-null  float64\n",
      " 26  landtaxvaluedollarcnt         28459 non-null  float64\n",
      " 27  taxamount                     28459 non-null  float64\n",
      " 28  censustractandblock           28459 non-null  float64\n",
      " 29  logerror                      28459 non-null  float64\n",
      " 30  transactiondate               28459 non-null  object \n",
      " 31  heatingorsystemdesc           28459 non-null  object \n",
      " 32  propertylandusedesc           28459 non-null  object \n",
      "dtypes: float64(27), int64(2), object(4)\n",
      "memory usage: 7.4+ MB\n",
      "None\n",
      "\n",
      "--------------------------------------\n",
      "--------------------------------------\n",
      "Here are the summary statistics of our dataset\n",
      "                id      parcelid bathroomcnt bedroomcnt buildingqualitytypeid  \\\n",
      "count    28459.000     28459.000   28459.000  28459.000             28459.000   \n",
      "mean   1503476.775  11859114.985       2.220      3.260                 6.349   \n",
      "std     858579.972    749678.606       1.004      0.900                 1.682   \n",
      "min       1439.000  10711855.000       1.000      1.000                 1.000   \n",
      "25%     770154.000  11184078.000       2.000      3.000                 5.000   \n",
      "50%    1508907.000  11855240.000       2.000      3.000                 6.000   \n",
      "75%    2250927.500  12535368.500       3.000      4.000                 8.000   \n",
      "max    2982055.000  13102228.000      11.000     11.000                12.000   \n",
      "\n",
      "      calculatedbathnbr calculatedfinishedsquarefeet finishedsquarefeet12  \\\n",
      "count         28459.000                    28459.000            28459.000   \n",
      "mean              2.220                     1841.696             1841.696   \n",
      "std               1.004                      919.822              919.822   \n",
      "min               1.000                      152.000              152.000   \n",
      "25%               2.000                     1247.000             1247.000   \n",
      "50%               2.000                     1591.000             1591.000   \n",
      "75%               3.000                     2164.000             2164.000   \n",
      "max              11.000                    12616.000            12616.000   \n",
      "\n",
      "            fips fullbathcnt  ...    roomcnt    unitcnt  yearbuilt  \\\n",
      "count  28459.000   28459.000  ...  28459.000  28459.000  28459.000   \n",
      "mean    6037.000       2.220  ...      0.000      1.000   1957.881   \n",
      "std        0.000       1.004  ...      0.000      0.000     21.175   \n",
      "min     6037.000       1.000  ...      0.000      1.000   1878.000   \n",
      "25%     6037.000       2.000  ...      0.000      1.000   1948.000   \n",
      "50%     6037.000       2.000  ...      0.000      1.000   1955.000   \n",
      "75%     6037.000       3.000  ...      0.000      1.000   1968.000   \n",
      "max     6037.000      11.000  ...      0.000      1.000   2016.000   \n",
      "\n",
      "      structuretaxvaluedollarcnt taxvaluedollarcnt assessmentyear  \\\n",
      "count                  28459.000         28459.000      28459.000   \n",
      "mean                  179864.439        479107.680       2016.000   \n",
      "std                   224380.371        676222.186          0.000   \n",
      "min                      181.000         13352.000       2016.000   \n",
      "25%                    76000.000        162222.500       2016.000   \n",
      "50%                   125399.000        322471.000       2016.000   \n",
      "75%                   203050.000        543688.500       2016.000   \n",
      "max                  7893568.000      23858374.000       2016.000   \n",
      "\n",
      "      landtaxvaluedollarcnt   taxamount  censustractandblock   logerror  \n",
      "count             28459.000   28459.000            28459.000  28459.000  \n",
      "mean             299243.241    6051.571   60389383771346.883      0.015  \n",
      "std              499767.676    7947.041    2505399645559.811      0.166  \n",
      "min                 161.000     120.840   60371011101009.000     -4.454  \n",
      "25%               52370.000    2396.200   60372225003002.000     -0.029  \n",
      "50%              178070.000    4266.520   60374303024003.000      0.006  \n",
      "75%              360165.000    6783.750   60375764521503.000      0.042  \n",
      "max            18274500.000  276797.830  483030105084015.000      5.263  \n",
      "\n",
      "[8 rows x 29 columns]\n",
      "\n",
      "--------------------------------------\n",
      "--------------------------------------\n",
      "Null Values by Column: \n",
      "                              count  percentage\n",
      "id                                0         0.0\n",
      "regionidcity                      0         0.0\n",
      "heatingorsystemdesc               0         0.0\n",
      "transactiondate                   0         0.0\n",
      "logerror                          0         0.0\n",
      "censustractandblock               0         0.0\n",
      "taxamount                         0         0.0\n",
      "landtaxvaluedollarcnt             0         0.0\n",
      "assessmentyear                    0         0.0\n",
      "taxvaluedollarcnt                 0         0.0\n",
      "structuretaxvaluedollarcnt        0         0.0\n",
      "yearbuilt                         0         0.0\n",
      "unitcnt                           0         0.0\n",
      "roomcnt                           0         0.0\n",
      "regionidzip                       0         0.0\n",
      "regionidcounty                    0         0.0\n",
      "rawcensustractandblock            0         0.0\n",
      "parcelid                          0         0.0\n",
      "propertylandusetypeid             0         0.0\n",
      "propertycountylandusecode         0         0.0\n",
      "lotsizesquarefeet                 0         0.0\n",
      "longitude                         0         0.0\n",
      "latitude                          0         0.0\n",
      "heatingorsystemtypeid             0         0.0\n",
      "fullbathcnt                       0         0.0\n",
      "fips                              0         0.0\n",
      "finishedsquarefeet12              0         0.0\n",
      "calculatedfinishedsquarefeet      0         0.0\n",
      "calculatedbathnbr                 0         0.0\n",
      "buildingqualitytypeid             0         0.0\n",
      "bedroomcnt                        0         0.0\n",
      "bathroomcnt                       0         0.0\n",
      "propertylandusedesc               0         0.0\n",
      " \n",
      " Total Number of Missing Values: 0 \n",
      "\n",
      " Proportion of Nulls in Dataframe: 0.0\n",
      "\n",
      "--------------------------------------\n",
      "--------------------------------------\n",
      "Row-by-Row Nulls\n",
      "                 percent_cols_missing  num_rows\n",
      "num_cols_missing                               \n",
      "0                                 0.0     28459\n",
      "----------------------\n"
     ]
    }
   ],
   "source": [
    "describe_data(df5)"
   ]
  },
  {
   "cell_type": "markdown",
   "id": "24fc79d7-9448-4087-9bda-11613a64ff47",
   "metadata": {},
   "source": [
    "https://dts.edatatrace.com/dts3/content/doc/whelp/mergedProjects/dts2tt/mergedProjects/dts2ttcs/land_use_la.htm\n",
    "\n",
    "### concerning property county land use code. \n",
    "0100 - Single Residence\n",
    "0101 Single residence with pool\n",
    "0104 - Single resident with therapy pool \n",
    "( 0102 does not exist, neither does 0103)\n",
    "anything in 111 counts as commercial, same with 122"
   ]
  },
  {
   "cell_type": "code",
   "execution_count": 85,
   "id": "083ad91b-ea79-475e-9887-cc50bb93faed",
   "metadata": {},
   "outputs": [
    {
     "name": "stdout",
     "output_type": "stream",
     "text": [
      "Relative Frequencies: \n",
      "\n",
      "Column: id \n",
      "\n",
      "Range of Values: [1439 - 2982055] \n",
      "\n",
      "------------------------------------------\n",
      "--------------------------------------\n",
      "Column: parcelid \n",
      "\n",
      "Range of Values: [10711855 - 13102228] \n",
      "\n",
      "------------------------------------------\n",
      "--------------------------------------\n",
      "Column: bathroomcnt \n",
      " 2.0    0.481\n",
      "3.0    0.221\n",
      "1.0    0.215\n",
      "4.0    0.051\n",
      "5.0    0.021\n",
      "Name: bathroomcnt, dtype: float64 \n",
      "\n",
      "------------------------------------------\n",
      "--------------------------------------\n",
      "Column: bedroomcnt \n",
      " 3.0    0.484\n",
      "4.0    0.262\n",
      "2.0    0.167\n",
      "5.0    0.066\n",
      "6.0    0.012\n",
      "Name: bedroomcnt, dtype: float64 \n",
      "\n",
      "------------------------------------------\n",
      "--------------------------------------\n",
      "Column: buildingqualitytypeid \n",
      " 6.0    0.322\n",
      "8.0    0.262\n",
      "4.0    0.228\n",
      "7.0    0.103\n",
      "9.0    0.033\n",
      "Name: buildingqualitytypeid, dtype: float64 \n",
      "\n",
      "------------------------------------------\n",
      "--------------------------------------\n",
      "Column: calculatedbathnbr \n",
      " 2.0    0.481\n",
      "3.0    0.221\n",
      "1.0    0.215\n",
      "4.0    0.051\n",
      "5.0    0.021\n",
      "Name: calculatedbathnbr, dtype: float64 \n",
      "\n",
      "------------------------------------------\n",
      "--------------------------------------\n",
      "Column: calculatedfinishedsquarefeet \n",
      "\n",
      "Range of Values: [152.0 - 12616.0] \n",
      "\n",
      "------------------------------------------\n",
      "--------------------------------------\n",
      "Column: finishedsquarefeet12 \n",
      "\n",
      "Range of Values: [152.0 - 12616.0] \n",
      "\n",
      "------------------------------------------\n",
      "--------------------------------------\n",
      "Column: fips \n",
      " 6037.0    1.0\n",
      "Name: fips, dtype: float64 \n",
      "\n",
      "------------------------------------------\n",
      "--------------------------------------\n",
      "Column: fullbathcnt \n",
      " 2.0    0.481\n",
      "3.0    0.221\n",
      "1.0    0.215\n",
      "4.0    0.051\n",
      "5.0    0.021\n",
      "Name: fullbathcnt, dtype: float64 \n",
      "\n",
      "------------------------------------------\n",
      "--------------------------------------\n",
      "Column: heatingorsystemtypeid \n",
      " 2.0     0.646\n",
      "7.0     0.353\n",
      "20.0    0.001\n",
      "Name: heatingorsystemtypeid, dtype: float64 \n",
      "\n",
      "------------------------------------------\n",
      "--------------------------------------\n",
      "Column: latitude \n",
      "\n",
      "Range of Values: [33707596.0 - 34818767.0] \n",
      "\n",
      "------------------------------------------\n",
      "--------------------------------------\n",
      "Column: longitude \n",
      "\n",
      "Range of Values: [-118895075.0 - -117653901.0] \n",
      "\n",
      "------------------------------------------\n",
      "--------------------------------------\n",
      "Column: lotsizesquarefeet \n",
      "\n",
      "Range of Values: [5000.0 - 2831752.0] \n",
      "\n",
      "------------------------------------------\n",
      "--------------------------------------\n",
      "Column: propertycountylandusecode \n",
      " 0100    0.778\n",
      "0101    0.211\n",
      "0104    0.011\n",
      "Name: propertycountylandusecode, dtype: float64 \n",
      "\n",
      "------------------------------------------\n",
      "--------------------------------------\n",
      "Column: propertylandusetypeid \n",
      " 261.0    1.0\n",
      "Name: propertylandusetypeid, dtype: float64 \n",
      "\n",
      "------------------------------------------\n",
      "--------------------------------------\n",
      "Column: rawcensustractandblock \n",
      "\n",
      "Range of Values: [60371011.101009 - 60379800.261006005] \n",
      "\n",
      "------------------------------------------\n",
      "--------------------------------------\n",
      "Column: regionidcity \n",
      "\n",
      "Range of Values: [4406.0 - 396556.0] \n",
      "\n",
      "------------------------------------------\n",
      "--------------------------------------\n",
      "Column: regionidcounty \n",
      " 3101.0    1.0\n",
      "Name: regionidcounty, dtype: float64 \n",
      "\n",
      "------------------------------------------\n",
      "--------------------------------------\n",
      "Column: regionidzip \n",
      "\n",
      "Range of Values: [95982.0 - 399675.0] \n",
      "\n",
      "------------------------------------------\n",
      "--------------------------------------\n",
      "Column: roomcnt \n",
      " 0.0    1.0\n",
      "Name: roomcnt, dtype: float64 \n",
      "\n",
      "------------------------------------------\n",
      "--------------------------------------\n",
      "Column: unitcnt \n",
      " 1.0    1.0\n",
      "Name: unitcnt, dtype: float64 \n",
      "\n",
      "------------------------------------------\n",
      "--------------------------------------\n",
      "Column: yearbuilt \n",
      "\n",
      "Range of Values: [1878.0 - 2016.0] \n",
      "\n",
      "------------------------------------------\n",
      "--------------------------------------\n",
      "Column: structuretaxvaluedollarcnt \n",
      "\n",
      "Range of Values: [181.0 - 7893568.0] \n",
      "\n",
      "------------------------------------------\n",
      "--------------------------------------\n",
      "Column: taxvaluedollarcnt \n",
      "\n",
      "Range of Values: [13352.0 - 23858374.0] \n",
      "\n",
      "------------------------------------------\n",
      "--------------------------------------\n",
      "Column: assessmentyear \n",
      " 2016.0    1.0\n",
      "Name: assessmentyear, dtype: float64 \n",
      "\n",
      "------------------------------------------\n",
      "--------------------------------------\n",
      "Column: landtaxvaluedollarcnt \n",
      "\n",
      "Range of Values: [161.0 - 18274500.0] \n",
      "\n",
      "------------------------------------------\n",
      "--------------------------------------\n",
      "Column: taxamount \n",
      "\n",
      "Range of Values: [120.84 - 276797.83] \n",
      "\n",
      "------------------------------------------\n",
      "--------------------------------------\n",
      "Column: censustractandblock \n",
      "\n",
      "Range of Values: [60371011101009.0 - 483030105084015.0] \n",
      "\n",
      "------------------------------------------\n",
      "--------------------------------------\n",
      "Column: logerror \n",
      "\n",
      "Range of Values: [-4.45396399868 - 5.2629986498] \n",
      "\n",
      "------------------------------------------\n",
      "--------------------------------------\n",
      "Column: transactiondate \n",
      "\n",
      "Range of Values: [2017-01-01 - 2017-09-25] \n",
      "\n",
      "------------------------------------------\n",
      "--------------------------------------\n",
      "Column: heatingorsystemdesc \n",
      " Central       0.646\n",
      "Floor/Wall    0.353\n",
      "Solar         0.001\n",
      "Name: heatingorsystemdesc, dtype: float64 \n",
      "\n",
      "------------------------------------------\n",
      "--------------------------------------\n",
      "Column: propertylandusedesc \n",
      " Single Family Residential    1.0\n",
      "Name: propertylandusedesc, dtype: float64 \n",
      "\n",
      "------------------------------------------\n",
      "--------------------------------------\n"
     ]
    }
   ],
   "source": [
    "print('Relative Frequencies: \\n')\n",
    "# Display top 5 values of each variable within reasonable limit\n",
    "limit = 25\n",
    "for col in df5.columns:\n",
    "    if df5[col].nunique() < limit:\n",
    "        print(f'Column: {col} \\n {round(df5[col].value_counts(normalize=True).nlargest(5), 3)} \\n')\n",
    "    else: \n",
    "        print(f'Column: {col} \\n')\n",
    "        print(f'Range of Values: [{df5[col].min()} - {df5[col].max()}] \\n')\n",
    "    print('------------------------------------------')\n",
    "    print('--------------------------------------')"
   ]
  },
  {
   "cell_type": "code",
   "execution_count": 115,
   "id": "51a554b1-f550-414a-ae09-ecd3435d597f",
   "metadata": {},
   "outputs": [],
   "source": [
    "def prep_zillow(df):\n",
    "    \n",
    "    df = data_prep(df)\n",
    "    \n",
    "    df = df[(df.propertylandusedesc == 'Single Family Residential') |\n",
    "      (df.propertylandusedesc == 'Mobile Home') |\n",
    "      (df.propertylandusedesc == 'Manufactured, Modular, Prefabricated Homes') |\n",
    "      (df.propertylandusedesc == 'Cluster Home')]\n",
    "    \n",
    "    # Remove properties that couldn't even plausibly be a studio. \n",
    "    df= df[(df.bedroomcnt > 0) & (df.bathroomcnt > 0)]\n",
    "    \n",
    "    # Remove properties where there is not a single bathroom.\n",
    "    df = df[df.bathroomcnt > 0]\n",
    "    \n",
    " # keep only properties with square footage greater than 70 (legal size of a bedroom)\n",
    "    df = df[df.calculatedfinishedsquarefeet > 70]\n",
    "    \n",
    "\n",
    "    \n",
    "    # Minimum lot size of single family units.\n",
    "    df = df[df.lotsizesquarefeet >= 5000].copy()\n",
    "    \n",
    "    \n",
    "    #df = df[~df['propertylandusetypeid'].isin([263, 265, 275])]\n",
    "    \n",
    "    # Clear indicators of single unit family. Other codes non-existent or indicate commercial sites. \n",
    "   # 0100 - Single Residence\n",
    "   # 0101 Single residence with pool\n",
    "   # 0104 - Single resident with therapy pool \n",
    "    df = df[(df.propertycountylandusecode == '0100') |\n",
    "      (df.propertycountylandusecode == '0101') |\n",
    "      (df.propertycountylandusecode == '0104')]\n",
    "    \n",
    "    # With so few remaining nulls it is safe to now control where unit count is only 1 \n",
    "    df = df[df.unitcnt == 1.0]\n",
    "    \n",
    "    # The last nulls can be dropped altogether. \n",
    "    df = df.dropna()\n",
    "    \n",
    "    # Property where finished area is 152 but bed count is 5. \n",
    "    df = df.drop(labels=75325, axis=0)\n",
    "    \n",
    "    # This removes the 30 rows where solar is at play. 1% of data. \n",
    "    df = df[df['heatingorsystemtypeid'] != 20]\n",
    "    \n",
    "    df['yearbuilt'] = df['yearbuilt'].astype(int)\n",
    "    df.yearbuilt = df.yearbuilt.astype(object) \n",
    "    df['age'] = 2017-df['yearbuilt']\n",
    "    df = df.drop(columns='yearbuilt')\n",
    "    df['age'] = df['age'].astype('int')\n",
    "    \n",
    "    df['central_cooling'] = df.heatingorsystemdesc.map({'Central': 1, 'Floor/Wall': 0})\n",
    "    \n",
    "            \n",
    "    # Redudant columns or uninterpretable columns\n",
    "    # Unit count was dropped because now its known that theyre all 1. \n",
    "    # Finished square feet is equal to calculated sq feet. \n",
    "    # full bathcnt and calculatedbathnbr are equal to bathroomcnt\n",
    "    # property zoning desc is unreadable. \n",
    "    # assessment year is unnecessary, all values are 2016. \n",
    "    # property land use desc is always single family residence \n",
    "    # same with property landuse type id. \n",
    "    # room count must be for a different category, as it is always 0.\n",
    "    # regionidcounty reveals the same information as FIPS. \n",
    "    # heatingorsystemtypeid is redundant. Encoded descr. \n",
    "    # Id does nothing, and parcelid is easier to represent. \n",
    "\n",
    "    \n",
    "    df.drop(columns= ['finishedsquarefeet12', 'fullbathcnt', 'calculatedbathnbr',\n",
    "                      'propertyzoningdesc', 'unitcnt', 'propertylandusedesc',\n",
    "                      'assessmentyear', 'roomcnt', 'regionidcounty', 'propertylandusetypeid',\n",
    "                      'heatingorsystemtypeid', 'id', 'heatingorsystemdesc' ],\n",
    "            axis=1, inplace=True)\n",
    "    \n",
    "    return df"
   ]
  },
  {
   "cell_type": "code",
   "execution_count": 116,
   "id": "0e6ecd36-0c0a-45e5-a7d1-0b47ce5ad500",
   "metadata": {},
   "outputs": [
    {
     "name": "stdout",
     "output_type": "stream",
     "text": [
      "The following 34 columns were dropped because they were missing more than 50.0% of data: \n",
      "['airconditioningtypeid', 'architecturalstyletypeid', 'basementsqft', 'buildingclasstypeid', 'decktypeid', 'finishedfloor1squarefeet', 'finishedsquarefeet13', 'finishedsquarefeet15', 'finishedsquarefeet50', 'finishedsquarefeet6', 'fireplacecnt', 'garagecarcnt', 'garagetotalsqft', 'hashottuborspa', 'poolcnt', 'poolsizesum', 'pooltypeid10', 'pooltypeid2', 'pooltypeid7', 'regionidneighborhood', 'storytypeid', 'threequarterbathnbr', 'typeconstructiontypeid', 'yardbuildingsqft17', 'yardbuildingsqft26', 'numberofstories', 'fireplaceflag', 'taxdelinquencyflag', 'taxdelinquencyyear', 'airconditioningdesc', 'architecturalstyledesc', 'buildingclassdesc', 'storydesc', 'typeconstructiondesc']\n",
      "\n",
      "0 rows were dropped because they were missing more than 50.0% of data\n"
     ]
    }
   ],
   "source": [
    "df2 = prep_zillow(df)"
   ]
  },
  {
   "cell_type": "code",
   "execution_count": 118,
   "id": "4d0d3237-2629-42f3-abe4-a0c63d99b3f6",
   "metadata": {},
   "outputs": [
    {
     "data": {
      "text/plain": [
       "(28377, 22)"
      ]
     },
     "execution_count": 118,
     "metadata": {},
     "output_type": "execute_result"
    }
   ],
   "source": [
    "df2.shape"
   ]
  }
 ],
 "metadata": {
  "kernelspec": {
   "display_name": "Python 3 (ipykernel)",
   "language": "python",
   "name": "python3"
  },
  "language_info": {
   "codemirror_mode": {
    "name": "ipython",
    "version": 3
   },
   "file_extension": ".py",
   "mimetype": "text/x-python",
   "name": "python",
   "nbconvert_exporter": "python",
   "pygments_lexer": "ipython3",
   "version": "3.9.7"
  }
 },
 "nbformat": 4,
 "nbformat_minor": 5
}
