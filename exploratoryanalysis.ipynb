{
 "cells": [
  {
   "cell_type": "code",
   "execution_count": 10,
   "id": "c7c37e11-2642-4237-b186-d7e4d3e49cea",
   "metadata": {},
   "outputs": [],
   "source": [
    "from wrangle_zillow import wrangle_zillow\n",
    "from prepare import describe_data\n",
    "\n",
    "import pandas as pd\n",
    "import numpy as np\n",
    "\n",
    "import matplotlib.pyplot as plt\n",
    "import seaborn as sns\n",
    "import scipy.stats as stats"
   ]
  },
  {
   "cell_type": "code",
   "execution_count": 2,
   "id": "737e7416-b056-413e-bdfe-152b420ec78d",
   "metadata": {},
   "outputs": [
    {
     "name": "stdout",
     "output_type": "stream",
     "text": [
      "Using cached CSV\n",
      "The following 34 columns were dropped because they were missing more than 50.0% of data: \n",
      "['airconditioningtypeid', 'architecturalstyletypeid', 'basementsqft', 'buildingclasstypeid', 'decktypeid', 'finishedfloor1squarefeet', 'finishedsquarefeet13', 'finishedsquarefeet15', 'finishedsquarefeet50', 'finishedsquarefeet6', 'fireplacecnt', 'garagecarcnt', 'garagetotalsqft', 'hashottuborspa', 'poolcnt', 'poolsizesum', 'pooltypeid10', 'pooltypeid2', 'pooltypeid7', 'regionidneighborhood', 'storytypeid', 'threequarterbathnbr', 'typeconstructiontypeid', 'yardbuildingsqft17', 'yardbuildingsqft26', 'numberofstories', 'fireplaceflag', 'taxdelinquencyflag', 'taxdelinquencyyear', 'airconditioningdesc', 'architecturalstyledesc', 'buildingclassdesc', 'storydesc', 'typeconstructiondesc']\n",
      "\n",
      "0 rows were dropped because they were missing more than 50.0% of data\n",
      "Yearbuilt converted to age. \n",
      "\n"
     ]
    }
   ],
   "source": [
    "train, validate, test = wrangle_zillow()"
   ]
  },
  {
   "cell_type": "code",
   "execution_count": 3,
   "id": "657168ea-eb07-45b6-bf28-e33778c0294b",
   "metadata": {},
   "outputs": [
    {
     "data": {
      "text/plain": [
       "((21265, 19), (9114, 19), (7595, 19))"
      ]
     },
     "execution_count": 3,
     "metadata": {},
     "output_type": "execute_result"
    }
   ],
   "source": [
    "train.shape, validate.shape, test.shape"
   ]
  },
  {
   "cell_type": "code",
   "execution_count": 4,
   "id": "80669d65-a551-49ca-a59a-a71d70581f27",
   "metadata": {},
   "outputs": [
    {
     "name": "stdout",
     "output_type": "stream",
     "text": [
      "This dataframe has 21265 rows and 19 columns.\n",
      "\n",
      "--------------------------------------\n",
      "--------------------------------------\n",
      "<class 'pandas.core.frame.DataFrame'>\n",
      "Int64Index: 21265 entries, 14230121 to 12260566\n",
      "Data columns (total 19 columns):\n",
      " #   Column                        Non-Null Count  Dtype  \n",
      "---  ------                        --------------  -----  \n",
      " 0   bathroomcnt                   21265 non-null  float64\n",
      " 1   bedroomcnt                    21265 non-null  float64\n",
      " 2   calculatedfinishedsquarefeet  21265 non-null  float64\n",
      " 3   fips                          21265 non-null  float64\n",
      " 4   latitude                      21265 non-null  float64\n",
      " 5   longitude                     21265 non-null  float64\n",
      " 6   lotsizesquarefeet             21265 non-null  float64\n",
      " 7   propertycountylandusecode     21265 non-null  object \n",
      " 8   rawcensustractandblock        21265 non-null  float64\n",
      " 9   regionidcity                  21265 non-null  float64\n",
      " 10  regionidzip                   21265 non-null  float64\n",
      " 11  structuretaxvaluedollarcnt    21265 non-null  float64\n",
      " 12  taxvaluedollarcnt             21265 non-null  float64\n",
      " 13  landtaxvaluedollarcnt         21265 non-null  float64\n",
      " 14  taxamount                     21265 non-null  float64\n",
      " 15  censustractandblock           21265 non-null  float64\n",
      " 16  logerror                      21265 non-null  float64\n",
      " 17  transactiondate               21265 non-null  object \n",
      " 18  age                           21265 non-null  int64  \n",
      "dtypes: float64(16), int64(1), object(2)\n",
      "memory usage: 3.2+ MB\n",
      "None\n",
      "\n",
      "--------------------------------------\n",
      "--------------------------------------\n",
      "Here are the summary statistics of our dataset\n",
      "      bathroomcnt bedroomcnt calculatedfinishedsquarefeet       fips  \\\n",
      "count   21265.000  21265.000                    21265.000  21265.000   \n",
      "mean        2.166      3.314                     1783.722   6048.549   \n",
      "std         0.807      0.861                      695.934     21.240   \n",
      "min         1.000      1.000                      360.000   6037.000   \n",
      "25%         2.000      3.000                     1273.000   6037.000   \n",
      "50%         2.000      3.000                     1613.000   6037.000   \n",
      "75%         3.000      4.000                     2148.000   6059.000   \n",
      "max         7.500     11.000                     4788.000   6111.000   \n",
      "\n",
      "           latitude       longitude lotsizesquarefeet rawcensustractandblock  \\\n",
      "count     21265.000       21265.000         21265.000              21265.000   \n",
      "mean   34045918.563  -118204523.085          7748.091           60488668.156   \n",
      "std      266376.491      347702.032          2585.266             210847.237   \n",
      "min    33393644.000  -119475265.000          5000.000           60371011.101   \n",
      "25%    33850476.000  -118403042.000          6033.000           60374002.042   \n",
      "50%    34044742.000  -118149315.000          7010.000           60375714.001   \n",
      "75%    34198210.000  -117949853.000          8446.000           60590320.531   \n",
      "max    34720230.000  -117572338.000         19203.000           61110089.002   \n",
      "\n",
      "      regionidcity regionidzip structuretaxvaluedollarcnt taxvaluedollarcnt  \\\n",
      "count    21265.000   21265.000                  21265.000         21265.000   \n",
      "mean     34298.804   96593.201                 148820.121        393368.333   \n",
      "std      52681.598    2968.738                 106287.225        285853.814   \n",
      "min       4406.000   95982.000                    181.000          9242.000   \n",
      "25%      12447.000   96213.000                  72844.000        171188.000   \n",
      "50%      24435.000   96415.000                 121180.000        339525.000   \n",
      "75%      40227.000   97003.000                 193565.000        538082.000   \n",
      "max     396556.000  399675.000                 608735.000       1675457.000   \n",
      "\n",
      "      landtaxvaluedollarcnt  taxamount censustractandblock   logerror  \\\n",
      "count             21265.000  21265.000           21265.000  21265.000   \n",
      "mean             244548.212   4874.814  60488673683822.633      0.016   \n",
      "std              219009.452   3274.264    210844253043.587      0.169   \n",
      "min                2250.000     49.180  60371011101011.000     -4.454   \n",
      "25%               59194.000   2453.770  60374002061016.000     -0.025   \n",
      "50%              192608.000   4298.270  60375714005007.000      0.006   \n",
      "75%              359572.000   6462.000  60590320531008.000      0.038   \n",
      "max             1269553.000  18538.870  61110089002015.000      3.069   \n",
      "\n",
      "             age  \n",
      "count  21265.000  \n",
      "mean      56.055  \n",
      "std       20.646  \n",
      "min        1.000  \n",
      "25%       44.000  \n",
      "50%       59.000  \n",
      "75%       67.000  \n",
      "max      139.000  \n",
      "\n",
      "--------------------------------------\n",
      "--------------------------------------\n",
      "Null Values by Column: \n",
      "                              count  percentage\n",
      "bathroomcnt                       0         0.0\n",
      "regionidzip                       0         0.0\n",
      "transactiondate                   0         0.0\n",
      "logerror                          0         0.0\n",
      "censustractandblock               0         0.0\n",
      "taxamount                         0         0.0\n",
      "landtaxvaluedollarcnt             0         0.0\n",
      "taxvaluedollarcnt                 0         0.0\n",
      "structuretaxvaluedollarcnt        0         0.0\n",
      "regionidcity                      0         0.0\n",
      "bedroomcnt                        0         0.0\n",
      "rawcensustractandblock            0         0.0\n",
      "propertycountylandusecode         0         0.0\n",
      "lotsizesquarefeet                 0         0.0\n",
      "longitude                         0         0.0\n",
      "latitude                          0         0.0\n",
      "fips                              0         0.0\n",
      "calculatedfinishedsquarefeet      0         0.0\n",
      "age                               0         0.0\n",
      " \n",
      " Total Number of Missing Values: 0 \n",
      "\n",
      " Proportion of Nulls in Dataframe: 0.0\n",
      "\n",
      "--------------------------------------\n",
      "--------------------------------------\n",
      "Row-by-Row Nulls\n",
      "                 percent_cols_missing  parcelid\n",
      "num_cols_missing                               \n",
      "0                                 0.0     21265\n",
      "----------------------\n",
      "Relative Frequencies: \n",
      "\n",
      "Column: bathroomcnt \n",
      " 2.0    0.487\n",
      "3.0    0.208\n",
      "1.0    0.184\n",
      "2.5    0.051\n",
      "4.0    0.031\n",
      "Name: bathroomcnt, dtype: float64 \n",
      "\n",
      "------------------------------------------\n",
      "--------------------------------------\n",
      "Column: bedroomcnt \n",
      " 3.0    0.473\n",
      "4.0    0.303\n",
      "2.0    0.142\n",
      "5.0    0.066\n",
      "6.0    0.009\n",
      "Name: bedroomcnt, dtype: float64 \n",
      "\n",
      "------------------------------------------\n",
      "--------------------------------------\n",
      "Column: calculatedfinishedsquarefeet \n",
      "\n",
      "Range of Values: [360.0 - 4788.0] \n",
      "\n",
      "------------------------------------------\n",
      "--------------------------------------\n",
      "Column: fips \n",
      " 6037.0    0.678\n",
      "6059.0    0.236\n",
      "6111.0    0.086\n",
      "Name: fips, dtype: float64 \n",
      "\n",
      "------------------------------------------\n",
      "--------------------------------------\n",
      "Column: latitude \n",
      "\n",
      "Range of Values: [33393644.0 - 34720230.0] \n",
      "\n",
      "------------------------------------------\n",
      "--------------------------------------\n",
      "Column: longitude \n",
      "\n",
      "Range of Values: [-119475265.0 - -117572338.0] \n",
      "\n",
      "------------------------------------------\n",
      "--------------------------------------\n",
      "Column: lotsizesquarefeet \n",
      "\n",
      "Range of Values: [5000.0 - 19203.0] \n",
      "\n",
      "------------------------------------------\n",
      "--------------------------------------\n",
      "Column: propertycountylandusecode \n",
      " 0100    0.550\n",
      "122     0.228\n",
      "0101    0.121\n",
      "1111    0.074\n",
      "1110    0.012\n",
      "Name: propertycountylandusecode, dtype: float64 \n",
      "\n",
      "------------------------------------------\n",
      "--------------------------------------\n",
      "Column: rawcensustractandblock \n",
      "\n",
      "Range of Values: [60371011.101011 - 61110089.002015] \n",
      "\n",
      "------------------------------------------\n",
      "--------------------------------------\n",
      "Column: regionidcity \n",
      "\n",
      "Range of Values: [4406.0 - 396556.0] \n",
      "\n",
      "------------------------------------------\n",
      "--------------------------------------\n",
      "Column: regionidzip \n",
      "\n",
      "Range of Values: [95982.0 - 399675.0] \n",
      "\n",
      "------------------------------------------\n",
      "--------------------------------------\n",
      "Column: structuretaxvaluedollarcnt \n",
      "\n",
      "Range of Values: [181.0 - 608735.0] \n",
      "\n",
      "------------------------------------------\n",
      "--------------------------------------\n",
      "Column: taxvaluedollarcnt \n",
      "\n",
      "Range of Values: [9242.0 - 1675457.0] \n",
      "\n",
      "------------------------------------------\n",
      "--------------------------------------\n",
      "Column: landtaxvaluedollarcnt \n",
      "\n",
      "Range of Values: [2250.0 - 1269553.0] \n",
      "\n",
      "------------------------------------------\n",
      "--------------------------------------\n",
      "Column: taxamount \n",
      "\n",
      "Range of Values: [49.18 - 18538.87] \n",
      "\n",
      "------------------------------------------\n",
      "--------------------------------------\n",
      "Column: censustractandblock \n",
      "\n",
      "Range of Values: [60371011101011.0 - 61110089002015.0] \n",
      "\n",
      "------------------------------------------\n",
      "--------------------------------------\n",
      "Column: logerror \n",
      "\n",
      "Range of Values: [-4.45396399868 - 3.0693648541100003] \n",
      "\n",
      "------------------------------------------\n",
      "--------------------------------------\n",
      "Column: transactiondate \n",
      "\n",
      "Range of Values: [2017-01-01 - 2017-09-25] \n",
      "\n",
      "------------------------------------------\n",
      "--------------------------------------\n",
      "Column: age \n",
      "\n",
      "Range of Values: [1 - 139] \n",
      "\n",
      "------------------------------------------\n",
      "--------------------------------------\n"
     ]
    }
   ],
   "source": [
    "describe_data(train)"
   ]
  },
  {
   "cell_type": "code",
   "execution_count": 5,
   "id": "b986d192-efa5-40ee-b1db-03478f6f4dab",
   "metadata": {},
   "outputs": [
    {
     "data": {
      "text/html": [
       "<div><div id=3fda5e15-c46d-4904-b661-ab482d3dcd4d style=\"display:none; background-color:#9D6CFF; color:white; width:200px; height:30px; padding-left:5px; border-radius:4px; flex-direction:row; justify-content:space-around; align-items:center;\" onmouseover=\"this.style.backgroundColor='#BA9BF8'\" onmouseout=\"this.style.backgroundColor='#9D6CFF'\" onclick=\"window.commands?.execute('create-mitosheet-from-dataframe-output');\">See Full Dataframe in Mito</div> <script> if (window.commands.hasCommand('create-mitosheet-from-dataframe-output')) document.getElementById('3fda5e15-c46d-4904-b661-ab482d3dcd4d').style.display = 'flex' </script> <table border=\"1\" class=\"dataframe\">\n",
       "  <thead>\n",
       "    <tr style=\"text-align: right;\">\n",
       "      <th></th>\n",
       "      <th>bathroomcnt</th>\n",
       "      <th>bedroomcnt</th>\n",
       "      <th>calculatedfinishedsquarefeet</th>\n",
       "      <th>fips</th>\n",
       "      <th>latitude</th>\n",
       "      <th>longitude</th>\n",
       "      <th>lotsizesquarefeet</th>\n",
       "      <th>propertycountylandusecode</th>\n",
       "      <th>rawcensustractandblock</th>\n",
       "      <th>regionidcity</th>\n",
       "      <th>regionidzip</th>\n",
       "      <th>structuretaxvaluedollarcnt</th>\n",
       "      <th>taxvaluedollarcnt</th>\n",
       "      <th>landtaxvaluedollarcnt</th>\n",
       "      <th>taxamount</th>\n",
       "      <th>censustractandblock</th>\n",
       "      <th>logerror</th>\n",
       "      <th>transactiondate</th>\n",
       "      <th>age</th>\n",
       "    </tr>\n",
       "    <tr>\n",
       "      <th>parcelid</th>\n",
       "      <th></th>\n",
       "      <th></th>\n",
       "      <th></th>\n",
       "      <th></th>\n",
       "      <th></th>\n",
       "      <th></th>\n",
       "      <th></th>\n",
       "      <th></th>\n",
       "      <th></th>\n",
       "      <th></th>\n",
       "      <th></th>\n",
       "      <th></th>\n",
       "      <th></th>\n",
       "      <th></th>\n",
       "      <th></th>\n",
       "      <th></th>\n",
       "      <th></th>\n",
       "      <th></th>\n",
       "      <th></th>\n",
       "    </tr>\n",
       "  </thead>\n",
       "  <tbody>\n",
       "    <tr>\n",
       "      <th>14230121</th>\n",
       "      <td>3.0</td>\n",
       "      <td>5.0</td>\n",
       "      <td>2152.0</td>\n",
       "      <td>6059.0</td>\n",
       "      <td>33804411.0</td>\n",
       "      <td>-117817996.0</td>\n",
       "      <td>7100.0</td>\n",
       "      <td>122</td>\n",
       "      <td>6.059076e+07</td>\n",
       "      <td>54970.0</td>\n",
       "      <td>97065.0</td>\n",
       "      <td>59980.0</td>\n",
       "      <td>79025.0</td>\n",
       "      <td>19045.0</td>\n",
       "      <td>1090.08</td>\n",
       "      <td>6.059076e+13</td>\n",
       "      <td>-0.007732</td>\n",
       "      <td>2017-04-05</td>\n",
       "      <td>54</td>\n",
       "    </tr>\n",
       "    <tr>\n",
       "      <th>12803766</th>\n",
       "      <td>2.0</td>\n",
       "      <td>3.0</td>\n",
       "      <td>1612.0</td>\n",
       "      <td>6037.0</td>\n",
       "      <td>33977044.0</td>\n",
       "      <td>-118062592.0</td>\n",
       "      <td>6868.0</td>\n",
       "      <td>0100</td>\n",
       "      <td>6.037501e+07</td>\n",
       "      <td>396556.0</td>\n",
       "      <td>96174.0</td>\n",
       "      <td>93170.0</td>\n",
       "      <td>138113.0</td>\n",
       "      <td>44943.0</td>\n",
       "      <td>1987.87</td>\n",
       "      <td>6.037501e+13</td>\n",
       "      <td>0.017445</td>\n",
       "      <td>2017-04-21</td>\n",
       "      <td>71</td>\n",
       "    </tr>\n",
       "    <tr>\n",
       "      <th>11089935</th>\n",
       "      <td>2.0</td>\n",
       "      <td>4.0</td>\n",
       "      <td>1420.0</td>\n",
       "      <td>6037.0</td>\n",
       "      <td>34248951.0</td>\n",
       "      <td>-118566603.0</td>\n",
       "      <td>7510.0</td>\n",
       "      <td>0101</td>\n",
       "      <td>6.037113e+07</td>\n",
       "      <td>12447.0</td>\n",
       "      <td>96346.0</td>\n",
       "      <td>67289.0</td>\n",
       "      <td>91705.0</td>\n",
       "      <td>24416.0</td>\n",
       "      <td>1237.90</td>\n",
       "      <td>6.037113e+13</td>\n",
       "      <td>-0.047621</td>\n",
       "      <td>2017-07-12</td>\n",
       "      <td>60</td>\n",
       "    </tr>\n",
       "    <tr>\n",
       "      <th>12084690</th>\n",
       "      <td>2.0</td>\n",
       "      <td>2.0</td>\n",
       "      <td>1370.0</td>\n",
       "      <td>6037.0</td>\n",
       "      <td>34127762.0</td>\n",
       "      <td>-118233137.0</td>\n",
       "      <td>6169.0</td>\n",
       "      <td>0100</td>\n",
       "      <td>6.037186e+07</td>\n",
       "      <td>12447.0</td>\n",
       "      <td>96046.0</td>\n",
       "      <td>43674.0</td>\n",
       "      <td>62288.0</td>\n",
       "      <td>18614.0</td>\n",
       "      <td>800.64</td>\n",
       "      <td>6.037186e+13</td>\n",
       "      <td>0.075405</td>\n",
       "      <td>2017-08-07</td>\n",
       "      <td>60</td>\n",
       "    </tr>\n",
       "    <tr>\n",
       "      <th>11189810</th>\n",
       "      <td>3.0</td>\n",
       "      <td>3.0</td>\n",
       "      <td>2203.0</td>\n",
       "      <td>6037.0</td>\n",
       "      <td>34598686.0</td>\n",
       "      <td>-118178794.0</td>\n",
       "      <td>7138.0</td>\n",
       "      <td>0100</td>\n",
       "      <td>6.037910e+07</td>\n",
       "      <td>40227.0</td>\n",
       "      <td>97329.0</td>\n",
       "      <td>183187.0</td>\n",
       "      <td>254060.0</td>\n",
       "      <td>70873.0</td>\n",
       "      <td>3926.34</td>\n",
       "      <td>6.037910e+13</td>\n",
       "      <td>-0.006346</td>\n",
       "      <td>2017-03-31</td>\n",
       "      <td>28</td>\n",
       "    </tr>\n",
       "    <tr>\n",
       "      <th>...</th>\n",
       "      <td>...</td>\n",
       "      <td>...</td>\n",
       "      <td>...</td>\n",
       "      <td>...</td>\n",
       "      <td>...</td>\n",
       "      <td>...</td>\n",
       "      <td>...</td>\n",
       "      <td>...</td>\n",
       "      <td>...</td>\n",
       "      <td>...</td>\n",
       "      <td>...</td>\n",
       "      <td>...</td>\n",
       "      <td>...</td>\n",
       "      <td>...</td>\n",
       "      <td>...</td>\n",
       "      <td>...</td>\n",
       "      <td>...</td>\n",
       "      <td>...</td>\n",
       "      <td>...</td>\n",
       "    </tr>\n",
       "    <tr>\n",
       "      <th>11146732</th>\n",
       "      <td>3.0</td>\n",
       "      <td>4.0</td>\n",
       "      <td>2230.0</td>\n",
       "      <td>6037.0</td>\n",
       "      <td>34436929.0</td>\n",
       "      <td>-118402618.0</td>\n",
       "      <td>6595.0</td>\n",
       "      <td>0101</td>\n",
       "      <td>6.037911e+07</td>\n",
       "      <td>54311.0</td>\n",
       "      <td>96401.0</td>\n",
       "      <td>147200.0</td>\n",
       "      <td>471600.0</td>\n",
       "      <td>324400.0</td>\n",
       "      <td>6162.08</td>\n",
       "      <td>6.037911e+13</td>\n",
       "      <td>-0.018908</td>\n",
       "      <td>2017-05-31</td>\n",
       "      <td>48</td>\n",
       "    </tr>\n",
       "    <tr>\n",
       "      <th>14046505</th>\n",
       "      <td>3.0</td>\n",
       "      <td>5.0</td>\n",
       "      <td>2520.0</td>\n",
       "      <td>6059.0</td>\n",
       "      <td>33646063.0</td>\n",
       "      <td>-117959457.0</td>\n",
       "      <td>6000.0</td>\n",
       "      <td>122</td>\n",
       "      <td>6.059099e+07</td>\n",
       "      <td>25218.0</td>\n",
       "      <td>96964.0</td>\n",
       "      <td>71926.0</td>\n",
       "      <td>102686.0</td>\n",
       "      <td>30760.0</td>\n",
       "      <td>1386.94</td>\n",
       "      <td>6.059099e+13</td>\n",
       "      <td>0.055890</td>\n",
       "      <td>2017-02-22</td>\n",
       "      <td>48</td>\n",
       "    </tr>\n",
       "    <tr>\n",
       "      <th>11988627</th>\n",
       "      <td>2.0</td>\n",
       "      <td>3.0</td>\n",
       "      <td>1746.0</td>\n",
       "      <td>6037.0</td>\n",
       "      <td>34079422.0</td>\n",
       "      <td>-118366310.0</td>\n",
       "      <td>6548.0</td>\n",
       "      <td>0100</td>\n",
       "      <td>6.037195e+07</td>\n",
       "      <td>12447.0</td>\n",
       "      <td>96029.0</td>\n",
       "      <td>173346.0</td>\n",
       "      <td>842159.0</td>\n",
       "      <td>668813.0</td>\n",
       "      <td>10251.23</td>\n",
       "      <td>6.037195e+13</td>\n",
       "      <td>-0.316089</td>\n",
       "      <td>2017-05-22</td>\n",
       "      <td>91</td>\n",
       "    </tr>\n",
       "    <tr>\n",
       "      <th>10761801</th>\n",
       "      <td>2.0</td>\n",
       "      <td>3.0</td>\n",
       "      <td>1184.0</td>\n",
       "      <td>6037.0</td>\n",
       "      <td>34216394.0</td>\n",
       "      <td>-118529166.0</td>\n",
       "      <td>6803.0</td>\n",
       "      <td>0101</td>\n",
       "      <td>6.037131e+07</td>\n",
       "      <td>12447.0</td>\n",
       "      <td>96364.0</td>\n",
       "      <td>115393.0</td>\n",
       "      <td>346465.0</td>\n",
       "      <td>231072.0</td>\n",
       "      <td>4265.16</td>\n",
       "      <td>6.037131e+13</td>\n",
       "      <td>-0.027486</td>\n",
       "      <td>2017-06-29</td>\n",
       "      <td>64</td>\n",
       "    </tr>\n",
       "    <tr>\n",
       "      <th>12260566</th>\n",
       "      <td>1.0</td>\n",
       "      <td>2.0</td>\n",
       "      <td>843.0</td>\n",
       "      <td>6037.0</td>\n",
       "      <td>33899013.0</td>\n",
       "      <td>-118256424.0</td>\n",
       "      <td>5687.0</td>\n",
       "      <td>0100</td>\n",
       "      <td>6.037541e+07</td>\n",
       "      <td>24174.0</td>\n",
       "      <td>96090.0</td>\n",
       "      <td>58163.0</td>\n",
       "      <td>159097.0</td>\n",
       "      <td>100934.0</td>\n",
       "      <td>2256.72</td>\n",
       "      <td>6.037541e+13</td>\n",
       "      <td>0.020075</td>\n",
       "      <td>2017-08-02</td>\n",
       "      <td>69</td>\n",
       "    </tr>\n",
       "  </tbody>\n",
       "</table></div>"
      ],
      "text/plain": [
       "          bathroomcnt  bedroomcnt  calculatedfinishedsquarefeet    fips  \\\n",
       "parcelid                                                                  \n",
       "14230121          3.0         5.0                        2152.0  6059.0   \n",
       "12803766          2.0         3.0                        1612.0  6037.0   \n",
       "11089935          2.0         4.0                        1420.0  6037.0   \n",
       "12084690          2.0         2.0                        1370.0  6037.0   \n",
       "11189810          3.0         3.0                        2203.0  6037.0   \n",
       "...               ...         ...                           ...     ...   \n",
       "11146732          3.0         4.0                        2230.0  6037.0   \n",
       "14046505          3.0         5.0                        2520.0  6059.0   \n",
       "11988627          2.0         3.0                        1746.0  6037.0   \n",
       "10761801          2.0         3.0                        1184.0  6037.0   \n",
       "12260566          1.0         2.0                         843.0  6037.0   \n",
       "\n",
       "            latitude    longitude  lotsizesquarefeet  \\\n",
       "parcelid                                               \n",
       "14230121  33804411.0 -117817996.0             7100.0   \n",
       "12803766  33977044.0 -118062592.0             6868.0   \n",
       "11089935  34248951.0 -118566603.0             7510.0   \n",
       "12084690  34127762.0 -118233137.0             6169.0   \n",
       "11189810  34598686.0 -118178794.0             7138.0   \n",
       "...              ...          ...                ...   \n",
       "11146732  34436929.0 -118402618.0             6595.0   \n",
       "14046505  33646063.0 -117959457.0             6000.0   \n",
       "11988627  34079422.0 -118366310.0             6548.0   \n",
       "10761801  34216394.0 -118529166.0             6803.0   \n",
       "12260566  33899013.0 -118256424.0             5687.0   \n",
       "\n",
       "         propertycountylandusecode  rawcensustractandblock  regionidcity  \\\n",
       "parcelid                                                                   \n",
       "14230121                       122            6.059076e+07       54970.0   \n",
       "12803766                      0100            6.037501e+07      396556.0   \n",
       "11089935                      0101            6.037113e+07       12447.0   \n",
       "12084690                      0100            6.037186e+07       12447.0   \n",
       "11189810                      0100            6.037910e+07       40227.0   \n",
       "...                            ...                     ...           ...   \n",
       "11146732                      0101            6.037911e+07       54311.0   \n",
       "14046505                       122            6.059099e+07       25218.0   \n",
       "11988627                      0100            6.037195e+07       12447.0   \n",
       "10761801                      0101            6.037131e+07       12447.0   \n",
       "12260566                      0100            6.037541e+07       24174.0   \n",
       "\n",
       "          regionidzip  structuretaxvaluedollarcnt  taxvaluedollarcnt  \\\n",
       "parcelid                                                               \n",
       "14230121      97065.0                     59980.0            79025.0   \n",
       "12803766      96174.0                     93170.0           138113.0   \n",
       "11089935      96346.0                     67289.0            91705.0   \n",
       "12084690      96046.0                     43674.0            62288.0   \n",
       "11189810      97329.0                    183187.0           254060.0   \n",
       "...               ...                         ...                ...   \n",
       "11146732      96401.0                    147200.0           471600.0   \n",
       "14046505      96964.0                     71926.0           102686.0   \n",
       "11988627      96029.0                    173346.0           842159.0   \n",
       "10761801      96364.0                    115393.0           346465.0   \n",
       "12260566      96090.0                     58163.0           159097.0   \n",
       "\n",
       "          landtaxvaluedollarcnt  taxamount  censustractandblock  logerror  \\\n",
       "parcelid                                                                    \n",
       "14230121                19045.0    1090.08         6.059076e+13 -0.007732   \n",
       "12803766                44943.0    1987.87         6.037501e+13  0.017445   \n",
       "11089935                24416.0    1237.90         6.037113e+13 -0.047621   \n",
       "12084690                18614.0     800.64         6.037186e+13  0.075405   \n",
       "11189810                70873.0    3926.34         6.037910e+13 -0.006346   \n",
       "...                         ...        ...                  ...       ...   \n",
       "11146732               324400.0    6162.08         6.037911e+13 -0.018908   \n",
       "14046505                30760.0    1386.94         6.059099e+13  0.055890   \n",
       "11988627               668813.0   10251.23         6.037195e+13 -0.316089   \n",
       "10761801               231072.0    4265.16         6.037131e+13 -0.027486   \n",
       "12260566               100934.0    2256.72         6.037541e+13  0.020075   \n",
       "\n",
       "         transactiondate  age  \n",
       "parcelid                       \n",
       "14230121      2017-04-05   54  \n",
       "12803766      2017-04-21   71  \n",
       "11089935      2017-07-12   60  \n",
       "12084690      2017-08-07   60  \n",
       "11189810      2017-03-31   28  \n",
       "...                  ...  ...  \n",
       "11146732      2017-05-31   48  \n",
       "14046505      2017-02-22   48  \n",
       "11988627      2017-05-22   91  \n",
       "10761801      2017-06-29   64  \n",
       "12260566      2017-08-02   69  \n",
       "\n",
       "[21265 rows x 19 columns]"
      ]
     },
     "execution_count": 5,
     "metadata": {},
     "output_type": "execute_result"
    }
   ],
   "source": [
    "train"
   ]
  },
  {
   "cell_type": "code",
   "execution_count": 6,
   "id": "a09e49e6-83c5-4ea8-aa99-46016bc83446",
   "metadata": {},
   "outputs": [
    {
     "data": {
      "application/vnd.jupyter.widget-view+json": {
       "model_id": "5b097cd21bc04f40a594a1e86e248383",
       "version_major": 2,
       "version_minor": 0
      },
      "text/plain": [
       "MitoWidget(analysis_data_json='{\"analysisName\": \"UUID-665ffe56-4413-4744-bf31-3b27fd4040aa\", \"code\": {\"imports…"
      ]
     },
     "metadata": {},
     "output_type": "display_data"
    }
   ],
   "source": [
    "import mitosheet\n",
    "mitosheet.sheet(train, view_df=True)"
   ]
  },
  {
   "cell_type": "markdown",
   "id": "d01dd8a3-2326-4172-8381-b9767bf2fc95",
   "metadata": {},
   "source": [
    "Exercises\n",
    "\n",
    "Sourcing the Zillow database as the data source, create a jupyter notebook named explore_zillow and do the following:\n",
    "\n",
    "Ask at least 5 questions about the data, keeping in mind that your target variable is logerror. e.g. Is logerror significantly different for properties in LA County vs Orange County vs Ventura County?\n",
    "\n",
    "Answer those questions through a mix of statistical tests and visualizations."
   ]
  },
  {
   "cell_type": "code",
   "execution_count": 11,
   "id": "7f504f23-680e-480e-aa25-c06f4e089935",
   "metadata": {},
   "outputs": [
    {
     "data": {
      "image/png": "[encoded data removed]",
      "text/plain": [
       "<Figure size 432x288 with 1 Axes>"
      ]
     },
     "metadata": {
      "needs_background": "light"
     },
     "output_type": "display_data"
    },
    {
     "data": {
      "image/png": "[encoded data removed]",
      "text/plain": [
       "<Figure size 432x288 with 1 Axes>"
      ]
     },
     "metadata": {
      "needs_background": "light"
     },
     "output_type": "display_data"
    },
    {
     "data": {
      "image/png": "[encoded data removed]",
      "text/plain": [
       "<Figure size 432x288 with 1 Axes>"
      ]
     },
     "metadata": {
      "needs_background": "light"
     },
     "output_type": "display_data"
    },
    {
     "data": {
      "image/png": "[encoded data removed]",
      "text/plain": [
       "<Figure size 432x288 with 1 Axes>"
      ]
     },
     "metadata": {
      "needs_background": "light"
     },
     "output_type": "display_data"
    },
    {
     "data": {
      "image/png": "[encoded data removed]",
      "text/plain": [
       "<Figure size 432x288 with 1 Axes>"
      ]
     },
     "metadata": {
      "needs_background": "light"
     },
     "output_type": "display_data"
    },
    {
     "data": {
      "image/png": "[encoded data removed]",
      "text/plain": [
       "<Figure size 432x288 with 1 Axes>"
      ]
     },
     "metadata": {
      "needs_background": "light"
     },
     "output_type": "display_data"
    },
    {
     "data": {
      "image/png": "[encoded data removed]",
      "text/plain": [
       "<Figure size 432x288 with 1 Axes>"
      ]
     },
     "metadata": {
      "needs_background": "light"
     },
     "output_type": "display_data"
    },
    {
     "data": {
      "image/png": "[encoded data removed]",
      "text/plain": [
       "<Figure size 432x288 with 1 Axes>"
      ]
     },
     "metadata": {
      "needs_background": "light"
     },
     "output_type": "display_data"
    },
    {
     "data": {
      "image/png": "[encoded data removed]",
      "text/plain": [
       "<Figure size 432x288 with 1 Axes>"
      ]
     },
     "metadata": {
      "needs_background": "light"
     },
     "output_type": "display_data"
    },
    {
     "data": {
      "image/png": "[encoded data removed]",
      "text/plain": [
       "<Figure size 432x288 with 1 Axes>"
      ]
     },
     "metadata": {
      "needs_background": "light"
     },
     "output_type": "display_data"
    },
    {
     "data": {
      "image/png": "[encoded data removed]",
      "text/plain": [
       "<Figure size 432x288 with 1 Axes>"
      ]
     },
     "metadata": {
      "needs_background": "light"
     },
     "output_type": "display_data"
    },
    {
     "data": {
      "image/png": "[encoded data removed]",
      "text/plain": [
       "<Figure size 432x288 with 1 Axes>"
      ]
     },
     "metadata": {
      "needs_background": "light"
     },
     "output_type": "display_data"
    },
    {
     "data": {
      "image/png": "[encoded data removed]",
      "text/plain": [
       "<Figure size 432x288 with 1 Axes>"
      ]
     },
     "metadata": {
      "needs_background": "light"
     },
     "output_type": "display_data"
    },
    {
     "data": {
      "image/png": "[encoded data removed]",
      "text/plain": [
       "<Figure size 432x288 with 1 Axes>"
      ]
     },
     "metadata": {
      "needs_background": "light"
     },
     "output_type": "display_data"
    },
    {
     "data": {
      "image/png": "[encoded data removed]",
      "text/plain": [
       "<Figure size 432x288 with 1 Axes>"
      ]
     },
     "metadata": {
      "needs_background": "light"
     },
     "output_type": "display_data"
    },
    {
     "data": {
      "image/png": "[encoded data removed]",
      "text/plain": [
       "<Figure size 432x288 with 1 Axes>"
      ]
     },
     "metadata": {
      "needs_background": "light"
     },
     "output_type": "display_data"
    },
    {
     "data": {
      "image/png": "[encoded data removed]",
      "text/plain": [
       "<Figure size 432x288 with 1 Axes>"
      ]
     },
     "metadata": {
      "needs_background": "light"
     },
     "output_type": "display_data"
    }
   ],
   "source": [
    "# distribution of the data\n",
    "con_cols = [col for col in train.columns if (train[col].dtype == 'int64') | (train[col].dtype == 'float64')]\n",
    "\n",
    "for col in con_cols:\n",
    "    plt.hist(train[col])\n",
    "    plt.title(f\"{col} distribution\")\n",
    "    plt.show()"
   ]
  },
  {
   "cell_type": "markdown",
   "id": "5657127a-b75b-46f9-a66b-565581917fc1",
   "metadata": {},
   "source": [
    "Takeaways:\n",
    "FIPS and Rawcensustractandblock unsurprisingly follow similar distribution patterns, meaning that rawcensus can be considered reliable and accurate. Potentially a good source for either binning or clustering. \n",
    "\n",
    "All taxvallue counts are positively (right) skewed.\n",
    "Region ID zip, as well as zip, may be thrown off by some outliers that are either mislabeled or oddly configured. Anything over 150,000 seems out of place."
   ]
  },
  {
   "cell_type": "code",
   "execution_count": null,
   "id": "5bcdce1e-843a-445f-8702-604527010301",
   "metadata": {},
   "outputs": [],
   "source": [
    "train"
   ]
  },
  {
   "cell_type": "code",
   "execution_count": 15,
   "id": "5d15663a-dde3-4ab9-a4c4-0b3bec04007f",
   "metadata": {},
   "outputs": [
    {
     "data": {
      "application/vnd.jupyter.widget-view+json": {
       "model_id": "48a1232d7a80478fad93d42df29f0689",
       "version_major": 2,
       "version_minor": 0
      },
      "text/plain": [
       "MitoWidget(analysis_data_json='{\"analysisName\": \"UUID-df8d976f-10d5-4e9e-bd7e-201319aeff67\", \"code\": {\"imports…"
      ]
     },
     "metadata": {},
     "output_type": "display_data"
    }
   ],
   "source": [
    "import mitosheet\n",
    "mitosheet.sheet(train, view_df=True)"
   ]
  },
  {
   "cell_type": "code",
   "execution_count": null,
   "id": "656d9a51-b23a-4667-b11a-2bb080867571",
   "metadata": {},
   "outputs": [],
   "source": []
  },
  {
   "cell_type": "code",
   "execution_count": null,
   "id": "c488c418-b38e-41a8-b84b-925a6375131c",
   "metadata": {},
   "outputs": [],
   "source": [
    "train"
   ]
  },
  {
   "cell_type": "code",
   "execution_count": 13,
   "id": "d151577e-08ce-4034-bfba-842fa72ece47",
   "metadata": {},
   "outputs": [
    {
     "data": {
      "application/vnd.jupyter.widget-view+json": {
       "model_id": "a36fd753ac87470eb5fb0ca62d0b57f1",
       "version_major": 2,
       "version_minor": 0
      },
      "text/plain": [
       "MitoWidget(analysis_data_json='{\"analysisName\": \"UUID-ae4e8f91-322c-47a6-bece-c6e6bbac8cc4\", \"code\": {\"imports…"
      ]
     },
     "metadata": {},
     "output_type": "display_data"
    }
   ],
   "source": [
    "import mitosheet\n",
    "mitosheet.sheet(train, view_df=True)"
   ]
  },
  {
   "cell_type": "code",
   "execution_count": null,
   "id": "cb7c831d-c4cb-44d8-864c-b0420908c6ca",
   "metadata": {},
   "outputs": [],
   "source": [
    "from mitosheet import *; register_analysis('UUID-ae4e8f91-322c-47a6-bece-c6e6bbac8cc4')\n",
    "    \n",
    "# Sorted regionidcity in train in descending order\n",
    "train = train.sort_values(by='regionidcity', ascending=False, na_position='last')\n",
    "\n",
    "# Filtered regionidzip in train\n",
    "train = train[train['regionidzip'] != 399675]\n",
    "\n",
    "# Filtered regionidcity in train\n",
    "train = train[~train['regionidcity'].isin([5534, 40227, 46298, 16764, 27110, 54311, 34278, 25218, 47568, 12773, 24812, 33252, 12292, 24832, 54722, 13150, 34543, 20008, 45457, 14542, 396054, 21412, 47019, 53636, 14634, 24245, 4406, 51239, 38032, 24174, 52650, 10608, 25459, 32380, 11626, 13693, 24384, 18874, 8384, 45602, 34780, 50749, 53571, 54053, 5465, 26531, 30908, 25974, 30187, 118225, 17150, 22827, 10734, 26483, 27491, 42150, 33836, 33612, 33837, 44116, 44833, 10241, 10774, 34636, 50677, 10723, 37015, 45398, 54212, 39308, 6021, 25458, 51861, 40081, 45888, 46314, 33840, 13091, 15554, 32923, 25953, 39306, 46080, 14111, 17597, 17686, 26964, 32616, 118694, 33311, 51617, 396556, 27183, 396551, 52842, 53655, 24435, 47762, 54299, 19177, 26965, 41673, 118914, 118994, 17882, 396550, 47695, 47547, 54352, 118217, 13716, 52835, 113576, 18098, 118895, 55753, 42967, 53027, 15237, 39076, 30267, 113412, 9840, 37688, 396053, 10389, 114828, 116042, 118878, 6395, 36502, 33727, 118875, 40110, 46178, 37086, 25468, 30399, 54970, 12520, 27103, 40009, 114834, 16389, 21778, 47198, 48424, 25271, 16961, 29189, 32753, 56780, 272578, 29712, 13311, 16677, 18875, 32927, 33312, 118880, 10815, 21395, 36078, 46098])]\n"
   ]
  },
  {
   "cell_type": "markdown",
   "id": "a073a82d-703b-4708-a8f9-6204d6b3ebd4",
   "metadata": {},
   "source": [
    "Orange is a city located in Orange County, California. It is approximately 3 miles (4.8 kilometers) north of the county seat, Santa Ana. Orange is unusual in this region because many of the homes in its Old Town District were built before 1920. While many other cities in the region demolished such houses in the 1960s, Orange decided to preserve them. The small city of Villa Park is surrounded by the city of Orange. The population was 139,911 as of 2020.[6]\n",
    "\n",
    "Orange is within the Greater Los Angeles Area.\n",
    "\n",
    "Greater Los Angeles is the second-largest metropolitan region in the United States with a population of 18.7 million as of 2020,[6] encompassing five counties in southern California extending from Ventura County in the west to San Bernardino County and Riverside County in the east, with Los Angeles County in the center and Orange County to the southeast. According to the U.S. Census Bureau, the Los Angeles–Anaheim–Riverside combined statistical area covers 33,954 square miles (87,940 km2), making it the largest metropolitan region in the United States by land area.\n",
    "\n",
    "There are three contiguous component metropolitan areas in Greater Los Angeles: the Inland Empire, which can be broadly defined as Riverside and San Bernardino counties; the Ventura/Oxnard metropolitan area (or Ventura County); and the Los Angeles metropolitan area (also known as Metropolitan Los Angeles or Metro LA)[8] consisting of Los Angeles and Orange counties only. The Census Bureau designates the latter as the Los Angeles–Long Beach–Anaheim metropolitan statistical area, the fifth largest metropolitan area in the western hemisphere and the second-largest metropolitan area in the United States, by population"
   ]
  },
  {
   "cell_type": "code",
   "execution_count": null,
   "id": "ecaf3047-e68b-4c3b-89eb-a158fa16a2f4",
   "metadata": {},
   "outputs": [],
   "source": [
    "train = train[train['regionidzip'] != 399675]"
   ]
  },
  {
   "cell_type": "markdown",
   "id": "2abae8d9-8ca6-485b-a85d-232a3b03134c",
   "metadata": {},
   "source": [
    "\n",
    "Orange is a city located in Orange County, California. It is approximately 3 miles (4.8 kilometers) north of the county seat, Santa Ana. __Orange is unusual in this region because many of the homes in its Old Town District were built before 1920. While many other cities in the region demolished such houses in the 1960s, Orange decided to preserve them.__ The small city of Villa Park is surrounded by the city of Orange. The population was 139,911 as of 2020.[6]\n",
    "Orange is within the Greater Los Angeles Area.\n",
    "__Greater Los Angeles is the second-largest metropolitan region in the United States with a population of 18.7 million as of 2020,[6] encompassing five counties in southern California extending from Ventura County in the west to San Bernardino County and Riverside County in the east, with Los Angeles County in the center and Orange County to the southeast.__ According to the U.S. Census Bureau, the Los Angeles–Anaheim–Riverside combined statistical area covers 33,954 square miles (87,940 km2), making it __the largest metropolitan region in the United States by land area.__\n",
    "There are three contiguous component metropolitan areas in Greater Los Angeles: the Inland Empire, which can be broadly defined as Riverside and San Bernardino counties; __the Ventura/Oxnard metropolitan area (or Ventura County);__ and the __Los Angeles metropolitan area (also known as Metropolitan Los Angeles or Metro LA)[8] consisting of Los Angeles and Orange counties only.__ The Census Bureau designates the latter as the Los Angeles–Long Beach–Anaheim metropolitan statistical area, the fifth largest metropolitan area in the western hemisphere and the second-largest metropolitan area in the United States, by population"
   ]
  }
 ],
 "metadata": {
  "kernelspec": {
   "display_name": "Python 3 (ipykernel)",
   "language": "python",
   "name": "python3"
  },
  "language_info": {
   "codemirror_mode": {
    "name": "ipython",
    "version": 3
   },
   "file_extension": ".py",
   "mimetype": "text/x-python",
   "name": "python",
   "nbconvert_exporter": "python",
   "pygments_lexer": "ipython3",
   "version": "3.9.7"
  }
 },
 "nbformat": 4,
 "nbformat_minor": 5
}
