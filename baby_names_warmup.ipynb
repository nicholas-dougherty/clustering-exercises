{
 "cells": [
  {
   "cell_type": "markdown",
   "id": "491db769",
   "metadata": {},
   "source": [
    "# Baby Names\n",
    "\n",
    "This dataset contains information on how many babies were born with each name. Both the raw number and proportion of births for the year are included."
   ]
  },
  {
   "cell_type": "code",
   "execution_count": 5,
   "id": "e8a5856f",
   "metadata": {},
   "outputs": [
    {
     "data": {
      "text/html": [
       "<div><div id=46500c3e-10bb-4927-995d-fb4de41b5028 style=\"display:none; background-color:#9D6CFF; color:white; width:200px; height:30px; padding-left:5px; border-radius:4px; flex-direction:row; justify-content:space-around; align-items:center;\" onmouseover=\"this.style.backgroundColor='#BA9BF8'\" onmouseout=\"this.style.backgroundColor='#9D6CFF'\" onclick=\"window.commands?.execute('create-mitosheet-from-dataframe-output');\">See Full Dataframe in Mito</div> <script> if (window.commands.hasCommand('create-mitosheet-from-dataframe-output')) document.getElementById('46500c3e-10bb-4927-995d-fb4de41b5028').style.display = 'flex' </script> <table border=\"1\" class=\"dataframe\">\n",
       "  <thead>\n",
       "    <tr style=\"text-align: right;\">\n",
       "      <th></th>\n",
       "      <th>year</th>\n",
       "      <th>sex</th>\n",
       "      <th>name</th>\n",
       "      <th>n</th>\n",
       "      <th>prop</th>\n",
       "    </tr>\n",
       "  </thead>\n",
       "  <tbody>\n",
       "    <tr>\n",
       "      <th>0</th>\n",
       "      <td>1880</td>\n",
       "      <td>F</td>\n",
       "      <td>Mary</td>\n",
       "      <td>7065</td>\n",
       "      <td>0.072384</td>\n",
       "    </tr>\n",
       "    <tr>\n",
       "      <th>1</th>\n",
       "      <td>1880</td>\n",
       "      <td>F</td>\n",
       "      <td>Anna</td>\n",
       "      <td>2604</td>\n",
       "      <td>0.026679</td>\n",
       "    </tr>\n",
       "    <tr>\n",
       "      <th>2</th>\n",
       "      <td>1880</td>\n",
       "      <td>F</td>\n",
       "      <td>Emma</td>\n",
       "      <td>2003</td>\n",
       "      <td>0.020521</td>\n",
       "    </tr>\n",
       "    <tr>\n",
       "      <th>3</th>\n",
       "      <td>1880</td>\n",
       "      <td>F</td>\n",
       "      <td>Elizabeth</td>\n",
       "      <td>1939</td>\n",
       "      <td>0.019866</td>\n",
       "    </tr>\n",
       "    <tr>\n",
       "      <th>4</th>\n",
       "      <td>1880</td>\n",
       "      <td>F</td>\n",
       "      <td>Minnie</td>\n",
       "      <td>1746</td>\n",
       "      <td>0.017888</td>\n",
       "    </tr>\n",
       "  </tbody>\n",
       "</table></div>"
      ],
      "text/plain": [
       "   year sex       name     n      prop\n",
       "0  1880   F       Mary  7065  0.072384\n",
       "1  1880   F       Anna  2604  0.026679\n",
       "2  1880   F       Emma  2003  0.020521\n",
       "3  1880   F  Elizabeth  1939  0.019866\n",
       "4  1880   F     Minnie  1746  0.017888"
      ]
     },
     "execution_count": 5,
     "metadata": {},
     "output_type": "execute_result"
    }
   ],
   "source": [
    "import matplotlib.pyplot as plt\n",
    "import seaborn as sns\n",
    "import numpy as np\n",
    "import pandas as pd\n",
    "import mitosheet\n",
    "from pandas_profiling import ProfileReport\n",
    "url = 'https://raw.githubusercontent.com/zgulde/tidytuesday/master/data/2022/2022-03-22/babynames.csv'\n",
    "df = pd.read_csv(url)\n",
    "df.head()"
   ]
  },
  {
   "cell_type": "markdown",
   "id": "0b8fa8e9",
   "metadata": {},
   "source": [
    "- What were the 10 most popular names the year you were born?\n",
    "- What year was your name the most popular?\n",
    "- Where does your name rank for the year that you were born?\n",
    "- Does your name increase or decrease in popularity compared to the year after the year you were born? The year before? What about 5 years before/after?\n",
    "- Visualize your name's popularity over time."
   ]
  },
  {
   "cell_type": "code",
   "execution_count": 28,
   "id": "c91228b9",
   "metadata": {},
   "outputs": [],
   "source": [
    "def describe_data(df):\n",
    "    '''\n",
    "    This function takes in a pandas dataframe and prints out the shape, datatypes, number of missing values, \n",
    "    columns and their data types, summary statistics of numeric columns in the dataframe, as well as the value counts for categorical variables.\n",
    "    '''\n",
    "    # Print out the \"shape\" of our dataframe - rows and columns\n",
    "    print(f'This dataframe has {df.shape[0]} rows and {df.shape[1]} columns.')\n",
    "    print('')\n",
    "    print('--------------------------------------')\n",
    "    print('--------------------------------------')\n",
    "    \n",
    "    # print the datatypes and column names with non-null counts\n",
    "    print(df.info())\n",
    "    print('')\n",
    "    print('--------------------------------------')\n",
    "    print('--------------------------------------')\n",
    "\n",
    "    # print the number of missing values per column and the total\n",
    "    print('Null Values: ')\n",
    "    missing_total = df.isnull().sum().sum()\n",
    "    missing_count = df.isnull().sum() # the count of missing values\n",
    "    value_count = df.isnull().count() # the count of all values\n",
    "    missing_percentage = round(missing_count / value_count * 100, 2) # percentage of missing values\n",
    "    missing_df = pd.DataFrame({'count': missing_count, 'percentage': missing_percentage}) # create df\n",
    "    print(missing_df)\n",
    "    print(f' \\n Total Number of Missing Values: {missing_total} \\n')\n",
    "    df_total = df[df.columns[:]].count().sum()\n",
    "    proportion_of_nulls = round((missing_total / df_total), 4)\n",
    "    print(f' Proportion of Nulls in Dataframe: {proportion_of_nulls}\\n') \n",
    "    print('--------------------------------------')\n",
    "    print('--------------------------------------')\n",
    "\n",
    "    # print out summary stats for our dataset\n",
    "    print('Here are the summary statistics of our dataset')\n",
    "    print(df.describe().applymap(lambda x: f\"{x:0.3f}\"))\n",
    "    print('')\n",
    "    print('--------------------------------------')\n",
    "    print('--------------------------------------')\n",
    "\n",
    "    print('Relative Frequencies: \\n')\n",
    "    # Display top 5 values of each variable within reasonable limit\n",
    "    limit = 25\n",
    "    for col in df.columns:\n",
    "        if df[col].nunique() < limit:\n",
    "            print(f'Column: {col} \\n {round(df[col].value_counts(normalize=True).nlargest(5), 3)} \\n')\n",
    "        else: \n",
    "            print(f'Column: {col} \\n')\n",
    "            print(f'Range of Values: [{df[col].min()} - {df[col].max()}] \\n')\n",
    "        print('------------------------------------------')\n",
    "        print('--------------------------------------')"
   ]
  },
  {
   "cell_type": "code",
   "execution_count": 75,
   "id": "ae58cde2",
   "metadata": {},
   "outputs": [],
   "source": [
    "#describe_data(df)"
   ]
  },
  {
   "cell_type": "code",
   "execution_count": 6,
   "id": "c6f1661e",
   "metadata": {},
   "outputs": [],
   "source": [
    "#report = ProfileReport(df)"
   ]
  },
  {
   "cell_type": "code",
   "execution_count": 76,
   "id": "82b1127f",
   "metadata": {},
   "outputs": [],
   "source": [
    "## Searching in whole column\n",
    "#for i in range(len(df.year)):\n",
    "#    if 1993 == df.year[i]:\n",
    "#          \n",
    "#        # indx will store the tuple having that \n",
    "#        # particular value in column.\n",
    "#        indx = i\n",
    "#  \n",
    "## below line will print that tuple\n",
    "#df.iloc[indx]"
   ]
  },
  {
   "cell_type": "code",
   "execution_count": 36,
   "id": "d7d481aa",
   "metadata": {},
   "outputs": [],
   "source": [
    "birth = pd.DataFrame(df.loc[df['year'] == 1993])"
   ]
  },
  {
   "cell_type": "code",
   "execution_count": 60,
   "id": "4338f3e8",
   "metadata": {},
   "outputs": [
    {
     "data": {
      "text/html": [
       "<div><div id=8aa499ff-d475-43f9-96e0-a9d18c878f84 style=\"display:none; background-color:#9D6CFF; color:white; width:200px; height:30px; padding-left:5px; border-radius:4px; flex-direction:row; justify-content:space-around; align-items:center;\" onmouseover=\"this.style.backgroundColor='#BA9BF8'\" onmouseout=\"this.style.backgroundColor='#9D6CFF'\" onclick=\"window.commands?.execute('create-mitosheet-from-dataframe-output');\">See Full Dataframe in Mito</div> <script> if (window.commands.hasCommand('create-mitosheet-from-dataframe-output')) document.getElementById('8aa499ff-d475-43f9-96e0-a9d18c878f84').style.display = 'flex' </script> <table border=\"1\" class=\"dataframe\">\n",
       "  <thead>\n",
       "    <tr style=\"text-align: right;\">\n",
       "      <th></th>\n",
       "      <th>year</th>\n",
       "      <th>sex</th>\n",
       "      <th>name</th>\n",
       "      <th>n</th>\n",
       "      <th>prop</th>\n",
       "    </tr>\n",
       "  </thead>\n",
       "  <tbody>\n",
       "    <tr>\n",
       "      <th>1160653</th>\n",
       "      <td>1993</td>\n",
       "      <td>M</td>\n",
       "      <td>Michael</td>\n",
       "      <td>49550</td>\n",
       "      <td>0.023996</td>\n",
       "    </tr>\n",
       "    <tr>\n",
       "      <th>1160654</th>\n",
       "      <td>1993</td>\n",
       "      <td>M</td>\n",
       "      <td>Christopher</td>\n",
       "      <td>38228</td>\n",
       "      <td>0.018513</td>\n",
       "    </tr>\n",
       "    <tr>\n",
       "      <th>1160655</th>\n",
       "      <td>1993</td>\n",
       "      <td>M</td>\n",
       "      <td>Matthew</td>\n",
       "      <td>35769</td>\n",
       "      <td>0.017322</td>\n",
       "    </tr>\n",
       "    <tr>\n",
       "      <th>1144856</th>\n",
       "      <td>1993</td>\n",
       "      <td>F</td>\n",
       "      <td>Jessica</td>\n",
       "      <td>34988</td>\n",
       "      <td>0.017750</td>\n",
       "    </tr>\n",
       "    <tr>\n",
       "      <th>1144857</th>\n",
       "      <td>1993</td>\n",
       "      <td>F</td>\n",
       "      <td>Ashley</td>\n",
       "      <td>34850</td>\n",
       "      <td>0.017680</td>\n",
       "    </tr>\n",
       "    <tr>\n",
       "      <th>1160656</th>\n",
       "      <td>1993</td>\n",
       "      <td>M</td>\n",
       "      <td>Joshua</td>\n",
       "      <td>33578</td>\n",
       "      <td>0.016261</td>\n",
       "    </tr>\n",
       "    <tr>\n",
       "      <th>1160657</th>\n",
       "      <td>1993</td>\n",
       "      <td>M</td>\n",
       "      <td>Tyler</td>\n",
       "      <td>29796</td>\n",
       "      <td>0.014429</td>\n",
       "    </tr>\n",
       "    <tr>\n",
       "      <th>1160658</th>\n",
       "      <td>1993</td>\n",
       "      <td>M</td>\n",
       "      <td>Brandon</td>\n",
       "      <td>28732</td>\n",
       "      <td>0.013914</td>\n",
       "    </tr>\n",
       "    <tr>\n",
       "      <th>1160659</th>\n",
       "      <td>1993</td>\n",
       "      <td>M</td>\n",
       "      <td>Daniel</td>\n",
       "      <td>28682</td>\n",
       "      <td>0.013890</td>\n",
       "    </tr>\n",
       "    <tr>\n",
       "      <th>1160660</th>\n",
       "      <td>1993</td>\n",
       "      <td>M</td>\n",
       "      <td>Nicholas</td>\n",
       "      <td>28105</td>\n",
       "      <td>0.013610</td>\n",
       "    </tr>\n",
       "  </tbody>\n",
       "</table></div>"
      ],
      "text/plain": [
       "         year sex         name      n      prop\n",
       "1160653  1993   M      Michael  49550  0.023996\n",
       "1160654  1993   M  Christopher  38228  0.018513\n",
       "1160655  1993   M      Matthew  35769  0.017322\n",
       "1144856  1993   F      Jessica  34988  0.017750\n",
       "1144857  1993   F       Ashley  34850  0.017680\n",
       "1160656  1993   M       Joshua  33578  0.016261\n",
       "1160657  1993   M        Tyler  29796  0.014429\n",
       "1160658  1993   M      Brandon  28732  0.013914\n",
       "1160659  1993   M       Daniel  28682  0.013890\n",
       "1160660  1993   M     Nicholas  28105  0.013610"
      ]
     },
     "execution_count": 60,
     "metadata": {},
     "output_type": "execute_result"
    }
   ],
   "source": [
    "top_10 = birth.sort_values(by='n', ascending=False).head(10)\n",
    "top_10"
   ]
  },
  {
   "cell_type": "markdown",
   "id": "71bf2624",
   "metadata": {},
   "source": [
    "- What were the 10 most popular names the year you were born?\n",
    "- What year was your name the most popular?\n",
    "- Where does your name rank for the year that you were born?\n",
    "- Does your name increase or decrease in popularity compared to the year after the year you were born? The year before? What about 5 years before/after?\n",
    "- Visualize your name's popularity over time."
   ]
  },
  {
   "cell_type": "code",
   "execution_count": 61,
   "id": "1bcb75de",
   "metadata": {},
   "outputs": [
    {
     "data": {
      "text/html": [
       "<div><div id=31b9b7d1-ed43-4e3f-b254-a8d4e311b16a style=\"display:none; background-color:#9D6CFF; color:white; width:200px; height:30px; padding-left:5px; border-radius:4px; flex-direction:row; justify-content:space-around; align-items:center;\" onmouseover=\"this.style.backgroundColor='#BA9BF8'\" onmouseout=\"this.style.backgroundColor='#9D6CFF'\" onclick=\"window.commands?.execute('create-mitosheet-from-dataframe-output');\">See Full Dataframe in Mito</div> <script> if (window.commands.hasCommand('create-mitosheet-from-dataframe-output')) document.getElementById('31b9b7d1-ed43-4e3f-b254-a8d4e311b16a').style.display = 'flex' </script> <table border=\"1\" class=\"dataframe\">\n",
       "  <thead>\n",
       "    <tr style=\"text-align: right;\">\n",
       "      <th></th>\n",
       "      <th>year</th>\n",
       "      <th>sex</th>\n",
       "      <th>name</th>\n",
       "      <th>n</th>\n",
       "      <th>prop</th>\n",
       "    </tr>\n",
       "  </thead>\n",
       "  <tbody>\n",
       "    <tr>\n",
       "      <th>1146516</th>\n",
       "      <td>1993</td>\n",
       "      <td>F</td>\n",
       "      <td>Nicholas</td>\n",
       "      <td>91</td>\n",
       "      <td>0.000046</td>\n",
       "    </tr>\n",
       "    <tr>\n",
       "      <th>1160660</th>\n",
       "      <td>1993</td>\n",
       "      <td>M</td>\n",
       "      <td>Nicholas</td>\n",
       "      <td>28105</td>\n",
       "      <td>0.013610</td>\n",
       "    </tr>\n",
       "  </tbody>\n",
       "</table></div>"
      ],
      "text/plain": [
       "         year sex      name      n      prop\n",
       "1146516  1993   F  Nicholas     91  0.000046\n",
       "1160660  1993   M  Nicholas  28105  0.013610"
      ]
     },
     "execution_count": 61,
     "metadata": {},
     "output_type": "execute_result"
    }
   ],
   "source": [
    "nick = pd.DataFrame(birth.loc[birth['name'] == 'Nicholas'])\n",
    "nick"
   ]
  },
  {
   "cell_type": "code",
   "execution_count": 64,
   "id": "c47defac",
   "metadata": {},
   "outputs": [
    {
     "data": {
      "text/html": [
       "<div><div id=57e90902-1b14-4a2d-95b9-80a1368ecf3b style=\"display:none; background-color:#9D6CFF; color:white; width:200px; height:30px; padding-left:5px; border-radius:4px; flex-direction:row; justify-content:space-around; align-items:center;\" onmouseover=\"this.style.backgroundColor='#BA9BF8'\" onmouseout=\"this.style.backgroundColor='#9D6CFF'\" onclick=\"window.commands?.execute('create-mitosheet-from-dataframe-output');\">See Full Dataframe in Mito</div> <script> if (window.commands.hasCommand('create-mitosheet-from-dataframe-output')) document.getElementById('57e90902-1b14-4a2d-95b9-80a1368ecf3b').style.display = 'flex' </script> <table border=\"1\" class=\"dataframe\">\n",
       "  <thead>\n",
       "    <tr style=\"text-align: right;\">\n",
       "      <th></th>\n",
       "      <th>year</th>\n",
       "      <th>sex</th>\n",
       "      <th>name</th>\n",
       "      <th>n</th>\n",
       "      <th>prop</th>\n",
       "    </tr>\n",
       "  </thead>\n",
       "  <tbody>\n",
       "    <tr>\n",
       "      <th>1292894</th>\n",
       "      <td>1998</td>\n",
       "      <td>M</td>\n",
       "      <td>Nicholas</td>\n",
       "      <td>26634</td>\n",
       "      <td>0.013139</td>\n",
       "    </tr>\n",
       "    <tr>\n",
       "      <th>1265485</th>\n",
       "      <td>1997</td>\n",
       "      <td>M</td>\n",
       "      <td>Nicholas</td>\n",
       "      <td>27257</td>\n",
       "      <td>0.013647</td>\n",
       "    </tr>\n",
       "    <tr>\n",
       "      <th>1109794</th>\n",
       "      <td>1991</td>\n",
       "      <td>M</td>\n",
       "      <td>Nicholas</td>\n",
       "      <td>27357</td>\n",
       "      <td>0.012909</td>\n",
       "    </tr>\n",
       "    <tr>\n",
       "      <th>1238793</th>\n",
       "      <td>1996</td>\n",
       "      <td>M</td>\n",
       "      <td>Nicholas</td>\n",
       "      <td>27720</td>\n",
       "      <td>0.013837</td>\n",
       "    </tr>\n",
       "    <tr>\n",
       "      <th>1135051</th>\n",
       "      <td>1992</td>\n",
       "      <td>M</td>\n",
       "      <td>Nicholas</td>\n",
       "      <td>27755</td>\n",
       "      <td>0.013225</td>\n",
       "    </tr>\n",
       "    <tr>\n",
       "      <th>1186581</th>\n",
       "      <td>1994</td>\n",
       "      <td>M</td>\n",
       "      <td>Nicholas</td>\n",
       "      <td>27761</td>\n",
       "      <td>0.013622</td>\n",
       "    </tr>\n",
       "    <tr>\n",
       "      <th>1084853</th>\n",
       "      <td>1990</td>\n",
       "      <td>M</td>\n",
       "      <td>Nicholas</td>\n",
       "      <td>27900</td>\n",
       "      <td>0.012970</td>\n",
       "    </tr>\n",
       "    <tr>\n",
       "      <th>1160660</th>\n",
       "      <td>1993</td>\n",
       "      <td>M</td>\n",
       "      <td>Nicholas</td>\n",
       "      <td>28105</td>\n",
       "      <td>0.013610</td>\n",
       "    </tr>\n",
       "    <tr>\n",
       "      <th>1060391</th>\n",
       "      <td>1989</td>\n",
       "      <td>M</td>\n",
       "      <td>Nicholas</td>\n",
       "      <td>28225</td>\n",
       "      <td>0.013470</td>\n",
       "    </tr>\n",
       "    <tr>\n",
       "      <th>1212575</th>\n",
       "      <td>1995</td>\n",
       "      <td>M</td>\n",
       "      <td>Nicholas</td>\n",
       "      <td>29155</td>\n",
       "      <td>0.014498</td>\n",
       "    </tr>\n",
       "  </tbody>\n",
       "</table></div>"
      ],
      "text/plain": [
       "         year sex      name      n      prop\n",
       "1292894  1998   M  Nicholas  26634  0.013139\n",
       "1265485  1997   M  Nicholas  27257  0.013647\n",
       "1109794  1991   M  Nicholas  27357  0.012909\n",
       "1238793  1996   M  Nicholas  27720  0.013837\n",
       "1135051  1992   M  Nicholas  27755  0.013225\n",
       "1186581  1994   M  Nicholas  27761  0.013622\n",
       "1084853  1990   M  Nicholas  27900  0.012970\n",
       "1160660  1993   M  Nicholas  28105  0.013610\n",
       "1060391  1989   M  Nicholas  28225  0.013470\n",
       "1212575  1995   M  Nicholas  29155  0.014498"
      ]
     },
     "execution_count": 64,
     "metadata": {},
     "output_type": "execute_result"
    }
   ],
   "source": [
    "me = pd.DataFrame(df.loc[df['name'] == 'Nicholas'])\n",
    "me.sort_values(by='n').tail(10)"
   ]
  },
  {
   "cell_type": "code",
   "execution_count": 70,
   "id": "37b06539",
   "metadata": {},
   "outputs": [
    {
     "data": {
      "text/plain": [
       "year\n",
       "1992    27835\n",
       "1990    27970\n",
       "1993    28196\n",
       "1989    28346\n",
       "1995    29211\n",
       "Name: n, dtype: int64"
      ]
     },
     "execution_count": 70,
     "metadata": {},
     "output_type": "execute_result"
    }
   ],
   "source": [
    "df[df.name =='Nicholas'].groupby('year').n.sum().sort_values().tail(5)"
   ]
  },
  {
   "cell_type": "code",
   "execution_count": 73,
   "id": "d334be4e",
   "metadata": {},
   "outputs": [
    {
     "data": {
      "text/html": [
       "<div><div id=acfda292-fb34-48d2-9778-cc512ab0dd98 style=\"display:none; background-color:#9D6CFF; color:white; width:200px; height:30px; padding-left:5px; border-radius:4px; flex-direction:row; justify-content:space-around; align-items:center;\" onmouseover=\"this.style.backgroundColor='#BA9BF8'\" onmouseout=\"this.style.backgroundColor='#9D6CFF'\" onclick=\"window.commands?.execute('create-mitosheet-from-dataframe-output');\">See Full Dataframe in Mito</div> <script> if (window.commands.hasCommand('create-mitosheet-from-dataframe-output')) document.getElementById('acfda292-fb34-48d2-9778-cc512ab0dd98').style.display = 'flex' </script> <table border=\"1\" class=\"dataframe\">\n",
       "  <thead>\n",
       "    <tr style=\"text-align: right;\">\n",
       "      <th></th>\n",
       "      <th>year</th>\n",
       "      <th>sex</th>\n",
       "      <th>name</th>\n",
       "      <th>n</th>\n",
       "      <th>prop</th>\n",
       "      <th>rank</th>\n",
       "    </tr>\n",
       "  </thead>\n",
       "  <tbody>\n",
       "    <tr>\n",
       "      <th>1146516</th>\n",
       "      <td>1993</td>\n",
       "      <td>F</td>\n",
       "      <td>Nicholas</td>\n",
       "      <td>91</td>\n",
       "      <td>0.000046</td>\n",
       "      <td>2830.0</td>\n",
       "    </tr>\n",
       "    <tr>\n",
       "      <th>1160660</th>\n",
       "      <td>1993</td>\n",
       "      <td>M</td>\n",
       "      <td>Nicholas</td>\n",
       "      <td>28105</td>\n",
       "      <td>0.013610</td>\n",
       "      <td>10.0</td>\n",
       "    </tr>\n",
       "  </tbody>\n",
       "</table></div>"
      ],
      "text/plain": [
       "         year sex      name      n      prop    rank\n",
       "1146516  1993   F  Nicholas     91  0.000046  2830.0\n",
       "1160660  1993   M  Nicholas  28105  0.013610    10.0"
      ]
     },
     "execution_count": 73,
     "metadata": {},
     "output_type": "execute_result"
    }
   ],
   "source": [
    "# WHere does your name rank for the year you were born?\n",
    "year_1993 = df[df.year == 1993].copy()\n",
    "year_1993['rank'] = year_1993.n.rank(ascending=False)\n",
    "year_1993[year_1993.name == 'Nicholas']"
   ]
  },
  {
   "cell_type": "code",
   "execution_count": 79,
   "id": "e56f4207",
   "metadata": {},
   "outputs": [
    {
     "data": {
      "text/plain": [
       "year\n",
       "1880      73\n",
       "1881      56\n",
       "1882      66\n",
       "1883      71\n",
       "1884      69\n",
       "        ... \n",
       "2013    7147\n",
       "2014    6772\n",
       "2015    6245\n",
       "2016    5744\n",
       "2017    5327\n",
       "Name: n, Length: 138, dtype: int64"
      ]
     },
     "execution_count": 79,
     "metadata": {},
     "output_type": "execute_result"
    }
   ],
   "source": []
  },
  {
   "cell_type": "code",
   "execution_count": 78,
   "id": "bb2a30bb",
   "metadata": {},
   "outputs": [
    {
     "ename": "AttributeError",
     "evalue": "'Series' object has no attribute 'year'",
     "output_type": "error",
     "traceback": [
      "\u001b[0;31m---------------------------------------------------------------------------\u001b[0m",
      "\u001b[0;31mAttributeError\u001b[0m                            Traceback (most recent call last)",
      "\u001b[0;32m/var/folders/qn/sd1_3x2j4196db03067vql600000gn/T/ipykernel_59348/2084954134.py\u001b[0m in \u001b[0;36m<module>\u001b[0;34m\u001b[0m\n\u001b[1;32m      2\u001b[0m \u001b[0msubset\u001b[0m \u001b[0;34m=\u001b[0m \u001b[0mdf\u001b[0m\u001b[0;34m[\u001b[0m\u001b[0mdf\u001b[0m\u001b[0;34m.\u001b[0m\u001b[0mname\u001b[0m \u001b[0;34m==\u001b[0m \u001b[0;34m'Nicholas'\u001b[0m\u001b[0;34m]\u001b[0m\u001b[0;34m\u001b[0m\u001b[0;34m\u001b[0m\u001b[0m\n\u001b[1;32m      3\u001b[0m \u001b[0msubset\u001b[0m \u001b[0;34m=\u001b[0m \u001b[0msubset\u001b[0m\u001b[0;34m.\u001b[0m\u001b[0mgroupby\u001b[0m\u001b[0;34m(\u001b[0m\u001b[0;34m'year'\u001b[0m\u001b[0;34m)\u001b[0m\u001b[0;34m.\u001b[0m\u001b[0mn\u001b[0m\u001b[0;34m.\u001b[0m\u001b[0msum\u001b[0m\u001b[0;34m(\u001b[0m\u001b[0;34m)\u001b[0m\u001b[0;34m\u001b[0m\u001b[0;34m\u001b[0m\u001b[0m\n\u001b[0;32m----> 4\u001b[0;31m \u001b[0mplt\u001b[0m\u001b[0;34m.\u001b[0m\u001b[0mplot\u001b[0m\u001b[0;34m(\u001b[0m\u001b[0msubset\u001b[0m\u001b[0;34m.\u001b[0m\u001b[0myear\u001b[0m\u001b[0;34m,\u001b[0m \u001b[0msubset\u001b[0m\u001b[0;34m.\u001b[0m\u001b[0mn\u001b[0m\u001b[0;34m)\u001b[0m\u001b[0;34m\u001b[0m\u001b[0;34m\u001b[0m\u001b[0m\n\u001b[0m\u001b[1;32m      5\u001b[0m \u001b[0mplt\u001b[0m\u001b[0;34m.\u001b[0m\u001b[0mxlabel\u001b[0m\u001b[0;34m(\u001b[0m\u001b[0;34m'Year'\u001b[0m\u001b[0;34m)\u001b[0m\u001b[0;34m\u001b[0m\u001b[0;34m\u001b[0m\u001b[0m\n\u001b[1;32m      6\u001b[0m \u001b[0mplt\u001b[0m\u001b[0;34m.\u001b[0m\u001b[0mylabel\u001b[0m\u001b[0;34m(\u001b[0m\u001b[0;34m'# of Births'\u001b[0m\u001b[0;34m)\u001b[0m\u001b[0;34m\u001b[0m\u001b[0;34m\u001b[0m\u001b[0m\n",
      "\u001b[0;32m/usr/local/anaconda3/lib/python3.9/site-packages/pandas/core/generic.py\u001b[0m in \u001b[0;36m__getattr__\u001b[0;34m(self, name)\u001b[0m\n\u001b[1;32m   5485\u001b[0m         ):\n\u001b[1;32m   5486\u001b[0m             \u001b[0;32mreturn\u001b[0m \u001b[0mself\u001b[0m\u001b[0;34m[\u001b[0m\u001b[0mname\u001b[0m\u001b[0;34m]\u001b[0m\u001b[0;34m\u001b[0m\u001b[0;34m\u001b[0m\u001b[0m\n\u001b[0;32m-> 5487\u001b[0;31m         \u001b[0;32mreturn\u001b[0m \u001b[0mobject\u001b[0m\u001b[0;34m.\u001b[0m\u001b[0m__getattribute__\u001b[0m\u001b[0;34m(\u001b[0m\u001b[0mself\u001b[0m\u001b[0;34m,\u001b[0m \u001b[0mname\u001b[0m\u001b[0;34m)\u001b[0m\u001b[0;34m\u001b[0m\u001b[0;34m\u001b[0m\u001b[0m\n\u001b[0m\u001b[1;32m   5488\u001b[0m \u001b[0;34m\u001b[0m\u001b[0m\n\u001b[1;32m   5489\u001b[0m     \u001b[0;32mdef\u001b[0m \u001b[0m__setattr__\u001b[0m\u001b[0;34m(\u001b[0m\u001b[0mself\u001b[0m\u001b[0;34m,\u001b[0m \u001b[0mname\u001b[0m\u001b[0;34m:\u001b[0m \u001b[0mstr\u001b[0m\u001b[0;34m,\u001b[0m \u001b[0mvalue\u001b[0m\u001b[0;34m)\u001b[0m \u001b[0;34m->\u001b[0m \u001b[0;32mNone\u001b[0m\u001b[0;34m:\u001b[0m\u001b[0;34m\u001b[0m\u001b[0;34m\u001b[0m\u001b[0m\n",
      "\u001b[0;31mAttributeError\u001b[0m: 'Series' object has no attribute 'year'"
     ]
    }
   ],
   "source": [
    "plt.figure(figsize=(13,7))\n",
    "subset = df[df.name == 'Nicholas']\n",
    "subset = subset.groupby('year').n.sum()\n",
    "plt.plot(subset.year, subset.n)\n",
    "plt.xlabel('Year')\n",
    "plt.ylabel('# of Births') \n",
    "plt.gca().yaxis.sex_major_formatter('{:,.0f}'.format)"
   ]
  },
  {
   "cell_type": "code",
   "execution_count": 84,
   "id": "17d50253",
   "metadata": {},
   "outputs": [
    {
     "data": {
      "text/plain": [
       "pandas.core.frame.DataFrame"
      ]
     },
     "execution_count": 84,
     "metadata": {},
     "output_type": "execute_result"
    }
   ],
   "source": [
    "type(me)"
   ]
  },
  {
   "cell_type": "code",
   "execution_count": 86,
   "id": "44f90497",
   "metadata": {},
   "outputs": [
    {
     "data": {
      "text/plain": [
       "Text(0, 0.5, '# of Births')"
      ]
     },
     "execution_count": 86,
     "metadata": {},
     "output_type": "execute_result"
    }
   ],
   "source": [
    "plt.figure(figsize=(13,7))\n",
    "subset = me.groupby(me.year).n.sum()\n",
    "plt.plot(me.year, me.n)\n",
    "plt.xlabel('Year')\n",
    "plt.ylabel('# of Births') \n",
    "# plt.gca().yaxis.sex_major_formatter('{:,.0f}'.format)"
   ]
  },
  {
   "cell_type": "code",
   "execution_count": 40,
   "id": "bf1df20b",
   "metadata": {},
   "outputs": [],
   "source": [
    "#df[df.year.eq(1993).any(1)]"
   ]
  },
  {
   "cell_type": "code",
   "execution_count": 74,
   "id": "518c25f7",
   "metadata": {},
   "outputs": [
    {
     "name": "stdout",
     "output_type": "stream",
     "text": [
      "Note: It take Case Sensitive Values.\n",
      "Type a Keyword to Search: Nicholas\n",
      "\n"
     ]
    }
   ],
   "source": [
    "x = df\n",
    "#x.columns = x.columns.str.lower().str.replace(' ', '_')\n",
    "y = x.columns.values\n",
    "z = y.tolist()\n",
    "print(\"Note: It take Case Sensitive Values.\")\n",
    "keyWord = input(\"Type a Keyword to Search: \")\n",
    "try:\n",
    "    for k in range(len(z)-1):\n",
    "        l = x[x[z[k]].str.match(keyWord)]\n",
    "        print(l.head(10))\n",
    "        k = k+1\n",
    "except:\n",
    "    print(\"\")"
   ]
  },
  {
   "cell_type": "code",
   "execution_count": null,
   "id": "14744b52",
   "metadata": {},
   "outputs": [],
   "source": []
  },
  {
   "cell_type": "code",
   "execution_count": null,
   "id": "6280b99f",
   "metadata": {},
   "outputs": [],
   "source": []
  },
  {
   "cell_type": "code",
   "execution_count": null,
   "id": "c398d077",
   "metadata": {},
   "outputs": [],
   "source": []
  }
 ],
 "metadata": {
  "kernelspec": {
   "display_name": "Python 3 (ipykernel)",
   "language": "python",
   "name": "python3"
  },
  "language_info": {
   "codemirror_mode": {
    "name": "ipython",
    "version": 3
   },
   "file_extension": ".py",
   "mimetype": "text/x-python",
   "name": "python",
   "nbconvert_exporter": "python",
   "pygments_lexer": "ipython3",
   "version": "3.9.7"
  }
 },
 "nbformat": 4,
 "nbformat_minor": 5
}
